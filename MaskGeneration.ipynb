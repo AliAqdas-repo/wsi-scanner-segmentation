{
  "nbformat": 4,
  "nbformat_minor": 0,
  "metadata": {
    "colab": {
      "name": "MaskGeneration.ipynb",
      "provenance": [],
      "collapsed_sections": [
        "lzuinasQ9ezB"
      ]
    },
    "kernelspec": {
      "name": "python3",
      "display_name": "Python 3"
    },
    "accelerator": "GPU"
  },
  "cells": [
    {
      "cell_type": "code",
      "metadata": {
        "id": "1rf7Lb_QzJTD",
        "outputId": "299a2e5f-8ad3-42b1-bfa5-52db0313b08f",
        "colab": {
          "base_uri": "https://localhost:8080/",
          "height": 1000
        }
      },
      "source": [
        "!pip install --upgrade setuptools pip\n",
        "!pip install openslide\n",
        "!apt update && apt install -y openslide-tools\n",
        "!pip install openslide-python\n",
        "!pip install py_wsi"
      ],
      "execution_count": null,
      "outputs": [
        {
          "output_type": "stream",
          "text": [
            "Requirement already up-to-date: setuptools in /usr/local/lib/python3.6/dist-packages (50.3.0)\n",
            "Collecting pip\n",
            "\u001b[?25l  Downloading https://files.pythonhosted.org/packages/4e/5f/528232275f6509b1fff703c9280e58951a81abe24640905de621c9f81839/pip-20.2.3-py2.py3-none-any.whl (1.5MB)\n",
            "\u001b[K     |████████████████████████████████| 1.5MB 4.7MB/s \n",
            "\u001b[?25hInstalling collected packages: pip\n",
            "  Found existing installation: pip 19.3.1\n",
            "    Uninstalling pip-19.3.1:\n",
            "      Successfully uninstalled pip-19.3.1\n",
            "Successfully installed pip-20.2.3\n",
            "\u001b[31mERROR: Could not find a version that satisfies the requirement openslide (from versions: none)\u001b[0m\n",
            "\u001b[31mERROR: No matching distribution found for openslide\u001b[0m\n",
            "Get:1 https://cloud.r-project.org/bin/linux/ubuntu bionic-cran35/ InRelease [3,626 B]\n",
            "Ign:2 https://developer.download.nvidia.com/compute/cuda/repos/ubuntu1804/x86_64  InRelease\n",
            "Ign:3 https://developer.download.nvidia.com/compute/machine-learning/repos/ubuntu1804/x86_64  InRelease\n",
            "Get:4 https://developer.download.nvidia.com/compute/cuda/repos/ubuntu1804/x86_64  Release [697 B]\n",
            "Get:5 https://developer.download.nvidia.com/compute/machine-learning/repos/ubuntu1804/x86_64  Release [564 B]\n",
            "Get:6 https://developer.download.nvidia.com/compute/cuda/repos/ubuntu1804/x86_64  Release.gpg [836 B]\n",
            "Get:7 https://developer.download.nvidia.com/compute/machine-learning/repos/ubuntu1804/x86_64  Release.gpg [833 B]\n",
            "Hit:8 http://ppa.launchpad.net/graphics-drivers/ppa/ubuntu bionic InRelease\n",
            "Hit:9 http://archive.ubuntu.com/ubuntu bionic InRelease\n",
            "Get:10 http://security.ubuntu.com/ubuntu bionic-security InRelease [88.7 kB]\n",
            "Get:11 http://archive.ubuntu.com/ubuntu bionic-updates InRelease [88.7 kB]\n",
            "Ign:12 https://developer.download.nvidia.com/compute/cuda/repos/ubuntu1804/x86_64  Packages\n",
            "Get:12 https://developer.download.nvidia.com/compute/cuda/repos/ubuntu1804/x86_64  Packages [306 kB]\n",
            "Get:13 http://ppa.launchpad.net/marutter/c2d4u3.5/ubuntu bionic InRelease [15.4 kB]\n",
            "Get:14 https://developer.download.nvidia.com/compute/machine-learning/repos/ubuntu1804/x86_64  Packages [47.9 kB]\n",
            "Get:15 http://archive.ubuntu.com/ubuntu bionic-backports InRelease [74.6 kB]\n",
            "Get:16 http://security.ubuntu.com/ubuntu bionic-security/main amd64 Packages [1,115 kB]\n",
            "Get:17 http://ppa.launchpad.net/marutter/c2d4u3.5/ubuntu bionic/main Sources [1,876 kB]\n",
            "Get:18 http://archive.ubuntu.com/ubuntu bionic-updates/restricted amd64 Packages [146 kB]\n",
            "Get:19 http://archive.ubuntu.com/ubuntu bionic-updates/universe amd64 Packages [1,434 kB]\n",
            "Get:20 http://security.ubuntu.com/ubuntu bionic-security/restricted amd64 Packages [126 kB]\n",
            "Get:21 http://security.ubuntu.com/ubuntu bionic-security/universe amd64 Packages [907 kB]\n",
            "Get:22 http://archive.ubuntu.com/ubuntu bionic-updates/main amd64 Packages [1,406 kB]\n",
            "Get:23 http://archive.ubuntu.com/ubuntu bionic-updates/multiverse amd64 Packages [33.9 kB]\n",
            "Get:24 http://ppa.launchpad.net/marutter/c2d4u3.5/ubuntu bionic/main amd64 Packages [906 kB]\n",
            "Fetched 8,578 kB in 4s (2,283 kB/s)\n",
            "Reading package lists... Done\n",
            "Building dependency tree       \n",
            "Reading state information... Done\n",
            "53 packages can be upgraded. Run 'apt list --upgradable' to see them.\n",
            "Reading package lists... Done\n",
            "Building dependency tree       \n",
            "Reading state information... Done\n",
            "The following additional packages will be installed:\n",
            "  libopenslide0\n",
            "Suggested packages:\n",
            "  libtiff-tools\n",
            "The following NEW packages will be installed:\n",
            "  libopenslide0 openslide-tools\n",
            "0 upgraded, 2 newly installed, 0 to remove and 53 not upgraded.\n",
            "Need to get 92.5 kB of archives.\n",
            "After this operation, 268 kB of additional disk space will be used.\n",
            "Get:1 http://archive.ubuntu.com/ubuntu bionic/universe amd64 libopenslide0 amd64 3.4.1+dfsg-2 [79.8 kB]\n",
            "Get:2 http://archive.ubuntu.com/ubuntu bionic/universe amd64 openslide-tools amd64 3.4.1+dfsg-2 [12.7 kB]\n",
            "Fetched 92.5 kB in 1s (101 kB/s)\n",
            "Selecting previously unselected package libopenslide0.\n",
            "(Reading database ... 144676 files and directories currently installed.)\n",
            "Preparing to unpack .../libopenslide0_3.4.1+dfsg-2_amd64.deb ...\n",
            "Unpacking libopenslide0 (3.4.1+dfsg-2) ...\n",
            "Selecting previously unselected package openslide-tools.\n",
            "Preparing to unpack .../openslide-tools_3.4.1+dfsg-2_amd64.deb ...\n",
            "Unpacking openslide-tools (3.4.1+dfsg-2) ...\n",
            "Setting up libopenslide0 (3.4.1+dfsg-2) ...\n",
            "Setting up openslide-tools (3.4.1+dfsg-2) ...\n",
            "Processing triggers for libc-bin (2.27-3ubuntu1.2) ...\n",
            "/sbin/ldconfig.real: /usr/local/lib/python3.6/dist-packages/ideep4py/lib/libmkldnn.so.0 is not a symbolic link\n",
            "\n",
            "Processing triggers for man-db (2.8.3-2ubuntu0.1) ...\n",
            "Collecting openslide-python\n",
            "  Downloading openslide-python-1.1.2.tar.gz (316 kB)\n",
            "\u001b[K     |████████████████████████████████| 316 kB 4.6 MB/s \n",
            "\u001b[?25hRequirement already satisfied: Pillow in /usr/local/lib/python3.6/dist-packages (from openslide-python) (7.0.0)\n",
            "Building wheels for collected packages: openslide-python\n",
            "  Building wheel for openslide-python (setup.py) ... \u001b[?25l\u001b[?25hdone\n",
            "  Created wheel for openslide-python: filename=openslide_python-1.1.2-cp36-cp36m-linux_x86_64.whl size=26721 sha256=539957199a94229b39f0386448b9b2af1c23033f34a1f205d3f010c992e72026\n",
            "  Stored in directory: /root/.cache/pip/wheels/ac/d1/f8/f226d1f46dfe6c8fc332167949f318bd2fcb4e228aa4731259\n",
            "Successfully built openslide-python\n",
            "Installing collected packages: openslide-python\n",
            "Successfully installed openslide-python-1.1.2\n",
            "Collecting py_wsi\n",
            "  Downloading py_wsi-1.1.tar.gz (12 kB)\n",
            "Requirement already satisfied: shapely in /usr/local/lib/python3.6/dist-packages (from py_wsi) (1.7.1)\n",
            "Requirement already satisfied: numpy in /usr/local/lib/python3.6/dist-packages (from py_wsi) (1.18.5)\n",
            "Requirement already satisfied: openslide-python in /usr/local/lib/python3.6/dist-packages (from py_wsi) (1.1.2)\n",
            "Requirement already satisfied: lmdb in /usr/local/lib/python3.6/dist-packages (from py_wsi) (0.99)\n",
            "Requirement already satisfied: Pillow in /usr/local/lib/python3.6/dist-packages (from py_wsi) (7.0.0)\n",
            "Building wheels for collected packages: py-wsi\n",
            "  Building wheel for py-wsi (setup.py) ... \u001b[?25l\u001b[?25hdone\n",
            "  Created wheel for py-wsi: filename=py_wsi-1.1-py3-none-any.whl size=12114 sha256=7aab467a59f455987277a0733fef1b368989814907feb5728cb6c70a3fd6dab9\n",
            "  Stored in directory: /root/.cache/pip/wheels/06/5a/0c/811730fec346f29facb9ba6d28fdeb2737e719386af37bcb43\n",
            "Successfully built py-wsi\n",
            "Installing collected packages: py-wsi\n",
            "Successfully installed py-wsi-1.1\n"
          ],
          "name": "stdout"
        }
      ]
    },
    {
      "cell_type": "code",
      "metadata": {
        "id": "HJhJ0QjP0vXd",
        "outputId": "e6369c85-5943-4296-c764-a5923daf415b",
        "colab": {
          "base_uri": "https://localhost:8080/",
          "height": 105
        }
      },
      "source": [
        "!pip install numba"
      ],
      "execution_count": null,
      "outputs": [
        {
          "output_type": "stream",
          "text": [
            "Requirement already satisfied: numba in /usr/local/lib/python3.6/dist-packages (0.48.0)\n",
            "Requirement already satisfied: llvmlite<0.32.0,>=0.31.0dev0 in /usr/local/lib/python3.6/dist-packages (from numba) (0.31.0)\n",
            "Requirement already satisfied: setuptools in /usr/local/lib/python3.6/dist-packages (from numba) (50.3.0)\n",
            "Requirement already satisfied: numpy>=1.15 in /usr/local/lib/python3.6/dist-packages (from numba) (1.18.5)\n"
          ],
          "name": "stdout"
        }
      ]
    },
    {
      "cell_type": "code",
      "metadata": {
        "id": "7qeJhHx45Rk5",
        "outputId": "00f4a59b-1f2f-42b8-98dd-dfe61c357f99",
        "colab": {
          "base_uri": "https://localhost:8080/",
          "height": 136
        }
      },
      "source": [
        "!git clone https://github.com/cosmiq/solaris.git\n",
        "!cd /content/solaris"
      ],
      "execution_count": null,
      "outputs": [
        {
          "output_type": "stream",
          "text": [
            "Cloning into 'solaris'...\n",
            "remote: Enumerating objects: 142, done.\u001b[K\n",
            "remote: Counting objects: 100% (142/142), done.\u001b[K\n",
            "remote: Compressing objects: 100% (106/106), done.\u001b[K\n",
            "remote: Total 5008 (delta 81), reused 69 (delta 36), pack-reused 4866\u001b[K\n",
            "Receiving objects: 100% (5008/5008), 26.83 MiB | 13.90 MiB/s, done.\n",
            "Resolving deltas: 100% (3248/3248), done.\n"
          ],
          "name": "stdout"
        }
      ]
    },
    {
      "cell_type": "markdown",
      "metadata": {
        "id": "dTRI7RIzj1uI"
      },
      "source": [
        "#Pipeline for Installing Solaris"
      ]
    },
    {
      "cell_type": "code",
      "metadata": {
        "id": "7ILxMsb-h08H"
      },
      "source": [
        "#!pip install -r /content/solaris/requirements.txt"
      ],
      "execution_count": null,
      "outputs": []
    },
    {
      "cell_type": "code",
      "metadata": {
        "id": "UwiCcwndi5yE"
      },
      "source": [
        "!apt install gdal-bin python-gdal python3-gdal --quiet\n",
        "!apt install python3-rtree --quiet\n",
        "!apt install libgdal-dev libproj-dev --quiet\n",
        "!apt install libgeos-dev\n",
        "!pip install git+git://github.com/geopandas/geopandas.git --quiet\n",
        "!pip install descartes --quiet\n",
        "!pip install splot hvplot geoviews --quiet"
      ],
      "execution_count": null,
      "outputs": []
    },
    {
      "cell_type": "code",
      "metadata": {
        "id": "OF8RWYLOkvco",
        "outputId": "e9bef94f-e3e6-411c-f162-1a42c1ce859e",
        "colab": {
          "base_uri": "https://localhost:8080/",
          "height": 1000
        }
      },
      "source": [
        "!apt install python-cartopy python3-cartopy --quiet\n",
        "!apt install gdal-bin python-gdal python3-gdal --quiet\n",
        "!apt install python3-rtree --quiet\n",
        "!apt install libgdal-dev libproj-dev --quiet\n",
        "!apt install libgeos-dev\n",
        "!pip install git+git://github.com/geopandas/geopandas.git --quiet\n",
        "!pip install descartes --quiet\n",
        "!pip install urbanaccess pandana pysal --quiet\n",
        "!pip install splot hvplot geoviews --quiet\n",
        "!pip install --no-binary shapely shapely --upgrade --force-reinstall --quiet"
      ],
      "execution_count": null,
      "outputs": [
        {
          "output_type": "stream",
          "text": [
            "Reading package lists...\n",
            "Building dependency tree...\n",
            "Reading state information...\n",
            "The following additional packages will be installed:\n",
            "  python-pkg-resources python-pyshp python-shapely python-six python3-pyshp\n",
            "  python3-shapely python3-six\n",
            "Suggested packages:\n",
            "  python-matplotlib python-owslib python-pil python-pyepsg python-scipy\n",
            "  python-setuptools python-shapely-doc python3-matplotlib python3-owslib\n",
            "  python3-pil python3-pyepsg python3-scipy\n",
            "The following NEW packages will be installed:\n",
            "  python-cartopy python-pkg-resources python-pyshp python-shapely python-six\n",
            "  python3-cartopy python3-pyshp python3-shapely python3-six\n",
            "0 upgraded, 9 newly installed, 0 to remove and 11 not upgraded.\n",
            "Need to get 11.1 MB of archives.\n",
            "After this operation, 20.4 MB of additional disk space will be used.\n",
            "Get:1 http://archive.ubuntu.com/ubuntu bionic/main amd64 python-pkg-resources all 39.0.1-2 [128 kB]\n",
            "Get:2 http://archive.ubuntu.com/ubuntu bionic/universe amd64 python-pyshp all 1.2.12+ds-1 [31.4 kB]\n",
            "Get:3 http://archive.ubuntu.com/ubuntu bionic/universe amd64 python-shapely amd64 1.6.4-1 [221 kB]\n",
            "Get:4 http://archive.ubuntu.com/ubuntu bionic/main amd64 python-six all 1.11.0-2 [11.3 kB]\n",
            "Get:5 http://archive.ubuntu.com/ubuntu bionic/universe amd64 python-cartopy amd64 0.14.2+dfsg1-2build3 [5,223 kB]\n",
            "Get:6 http://archive.ubuntu.com/ubuntu bionic/universe amd64 python3-pyshp all 1.2.12+ds-1 [31.5 kB]\n",
            "Get:7 http://archive.ubuntu.com/ubuntu bionic/universe amd64 python3-shapely amd64 1.6.4-1 [213 kB]\n",
            "Get:8 http://archive.ubuntu.com/ubuntu bionic/main amd64 python3-six all 1.11.0-2 [11.4 kB]\n",
            "Get:9 http://archive.ubuntu.com/ubuntu bionic/universe amd64 python3-cartopy amd64 0.14.2+dfsg1-2build3 [5,216 kB]\n",
            "Fetched 11.1 MB in 0s (45.5 MB/s)\n",
            "Selecting previously unselected package python-pkg-resources.\n",
            "(Reading database ... 147293 files and directories currently installed.)\n",
            "Preparing to unpack .../0-python-pkg-resources_39.0.1-2_all.deb ...\n",
            "Unpacking python-pkg-resources (39.0.1-2) ...\n",
            "Selecting previously unselected package python-pyshp.\n",
            "Preparing to unpack .../1-python-pyshp_1.2.12+ds-1_all.deb ...\n",
            "Unpacking python-pyshp (1.2.12+ds-1) ...\n",
            "Selecting previously unselected package python-shapely.\n",
            "Preparing to unpack .../2-python-shapely_1.6.4-1_amd64.deb ...\n",
            "Unpacking python-shapely (1.6.4-1) ...\n",
            "Selecting previously unselected package python-six.\n",
            "Preparing to unpack .../3-python-six_1.11.0-2_all.deb ...\n",
            "Unpacking python-six (1.11.0-2) ...\n",
            "Selecting previously unselected package python-cartopy:amd64.\n",
            "Preparing to unpack .../4-python-cartopy_0.14.2+dfsg1-2build3_amd64.deb ...\n",
            "Unpacking python-cartopy:amd64 (0.14.2+dfsg1-2build3) ...\n",
            "Selecting previously unselected package python3-pyshp.\n",
            "Preparing to unpack .../5-python3-pyshp_1.2.12+ds-1_all.deb ...\n",
            "Unpacking python3-pyshp (1.2.12+ds-1) ...\n",
            "Selecting previously unselected package python3-shapely.\n",
            "Preparing to unpack .../6-python3-shapely_1.6.4-1_amd64.deb ...\n",
            "Unpacking python3-shapely (1.6.4-1) ...\n",
            "Selecting previously unselected package python3-six.\n",
            "Preparing to unpack .../7-python3-six_1.11.0-2_all.deb ...\n",
            "Unpacking python3-six (1.11.0-2) ...\n",
            "Selecting previously unselected package python3-cartopy:amd64.\n",
            "Preparing to unpack .../8-python3-cartopy_0.14.2+dfsg1-2build3_amd64.deb ...\n",
            "Unpacking python3-cartopy:amd64 (0.14.2+dfsg1-2build3) ...\n",
            "Setting up python-shapely (1.6.4-1) ...\n",
            "Setting up python-pyshp (1.2.12+ds-1) ...\n",
            "Setting up python3-six (1.11.0-2) ...\n",
            "Setting up python3-shapely (1.6.4-1) ...\n",
            "Setting up python3-pyshp (1.2.12+ds-1) ...\n",
            "Setting up python-pkg-resources (39.0.1-2) ...\n",
            "Setting up python-six (1.11.0-2) ...\n",
            "Setting up python3-cartopy:amd64 (0.14.2+dfsg1-2build3) ...\n",
            "Setting up python-cartopy:amd64 (0.14.2+dfsg1-2build3) ...\n",
            "Reading package lists...\n",
            "Building dependency tree...\n",
            "Reading state information...\n",
            "gdal-bin is already the newest version (2.2.3+dfsg-2).\n",
            "python-gdal is already the newest version (2.2.3+dfsg-2).\n",
            "python3-gdal is already the newest version (2.2.3+dfsg-2).\n",
            "0 upgraded, 0 newly installed, 0 to remove and 11 not upgraded.\n",
            "Reading package lists...\n",
            "Building dependency tree...\n",
            "Reading state information...\n",
            "python3-rtree is already the newest version (0.8.3+ds-1).\n",
            "0 upgraded, 0 newly installed, 0 to remove and 11 not upgraded.\n",
            "Reading package lists...\n",
            "Building dependency tree...\n",
            "Reading state information...\n",
            "libgdal-dev is already the newest version (2.2.3+dfsg-2).\n",
            "libproj-dev is already the newest version (4.9.3-2).\n",
            "0 upgraded, 0 newly installed, 0 to remove and 11 not upgraded.\n",
            "Reading package lists... Done\n",
            "Building dependency tree       \n",
            "Reading state information... Done\n",
            "libgeos-dev is already the newest version (3.6.2-1build2).\n",
            "0 upgraded, 0 newly installed, 0 to remove and 11 not upgraded.\n",
            "  Building wheel for geopandas (setup.py) ... \u001b[?25l\u001b[?25hdone\n",
            "\u001b[K     |████████████████████████████████| 51kB 3.1MB/s \n",
            "\u001b[K     |████████████████████████████████| 419kB 19.0MB/s \n",
            "\u001b[K     |████████████████████████████████| 112kB 24.1MB/s \n",
            "\u001b[K     |████████████████████████████████| 61kB 7.6MB/s \n",
            "\u001b[K     |████████████████████████████████| 92kB 9.2MB/s \n",
            "\u001b[K     |████████████████████████████████| 51kB 6.3MB/s \n",
            "\u001b[K     |████████████████████████████████| 51kB 7.0MB/s \n",
            "\u001b[K     |████████████████████████████████| 5.7MB 31.1MB/s \n",
            "\u001b[K     |████████████████████████████████| 122kB 42.2MB/s \n",
            "\u001b[K     |████████████████████████████████| 235kB 39.9MB/s \n",
            "\u001b[K     |████████████████████████████████| 2.7MB 37.8MB/s \n",
            "\u001b[K     |████████████████████████████████| 55.7MB 49kB/s \n",
            "\u001b[K     |████████████████████████████████| 92kB 8.8MB/s \n",
            "\u001b[K     |████████████████████████████████| 122kB 32.4MB/s \n",
            "\u001b[K     |████████████████████████████████| 102kB 11.9MB/s \n",
            "\u001b[K     |████████████████████████████████| 92kB 10.1MB/s \n",
            "\u001b[K     |████████████████████████████████| 133kB 42.0MB/s \n",
            "\u001b[?25h  Building wheel for pandana (setup.py) ... \u001b[?25l\u001b[?25hdone\n",
            "  Building wheel for pysal (setup.py) ... \u001b[?25l\u001b[?25hdone\n",
            "  Building wheel for inequality (setup.py) ... \u001b[?25l\u001b[?25hdone\n",
            "  Building wheel for pointpats (setup.py) ... \u001b[?25l\u001b[?25hdone\n",
            "  Building wheel for mgwr (setup.py) ... \u001b[?25l\u001b[?25hdone\n",
            "  Building wheel for spglm (setup.py) ... \u001b[?25l\u001b[?25hdone\n",
            "  Building wheel for spint (setup.py) ... \u001b[?25l\u001b[?25hdone\n",
            "  Building wheel for spvcm (setup.py) ... \u001b[?25l\u001b[?25hdone\n",
            "\u001b[31mERROR: google-colab 1.0.0 has requirement requests~=2.23.0, but you'll have requests 2.22.0 which is incompatible.\u001b[0m\n",
            "\u001b[31mERROR: datascience 0.10.6 has requirement folium==0.2.1, but you'll have folium 0.8.3 which is incompatible.\u001b[0m\n",
            "\u001b[31mERROR: albumentations 0.1.12 has requirement imgaug<0.2.7,>=0.2.5, but you'll have imgaug 0.2.9 which is incompatible.\u001b[0m\n",
            "\u001b[31mERROR: pytest-cov 2.10.1 has requirement coverage>=4.4, but you'll have coverage 3.7.1 which is incompatible.\u001b[0m\n",
            "\u001b[31mERROR: pytest-cov 2.10.1 has requirement pytest>=4.6, but you'll have pytest 3.6.4 which is incompatible.\u001b[0m\n",
            "\u001b[K     |████████████████████████████████| 389kB 5.8MB/s \n",
            "\u001b[31mERROR: albumentations 0.1.12 has requirement imgaug<0.2.7,>=0.2.5, but you'll have imgaug 0.2.9 which is incompatible.\u001b[0m\n",
            "\u001b[?25h    Running setup.py install for shapely ... \u001b[?25l\u001b[?25hdone\n"
          ],
          "name": "stdout"
        }
      ]
    },
    {
      "cell_type": "code",
      "metadata": {
        "id": "qd0vlujei8p0",
        "outputId": "ed04c7de-3933-4edc-850a-c8f784cdd81e",
        "colab": {
          "base_uri": "https://localhost:8080/",
          "height": 105
        }
      },
      "source": [
        "!pip install geojson"
      ],
      "execution_count": null,
      "outputs": [
        {
          "output_type": "stream",
          "text": [
            "Collecting geojson\n",
            "  Downloading https://files.pythonhosted.org/packages/e4/8d/9e28e9af95739e6d2d2f8d4bef0b3432da40b7c3588fbad4298c1be09e48/geojson-2.5.0-py2.py3-none-any.whl\n",
            "Installing collected packages: geojson\n",
            "Successfully installed geojson-2.5.0\n"
          ],
          "name": "stdout"
        }
      ]
    },
    {
      "cell_type": "code",
      "metadata": {
        "id": "hZv7RGAiBPBs",
        "outputId": "9597c9dd-1fee-4216-f641-5dd864114eb7",
        "colab": {
          "base_uri": "https://localhost:8080/",
          "height": 275
        }
      },
      "source": [
        "!pip install scikit-image"
      ],
      "execution_count": null,
      "outputs": [
        {
          "output_type": "stream",
          "text": [
            "Requirement already satisfied: scikit-image in /usr/local/lib/python3.6/dist-packages (0.16.2)\n",
            "Requirement already satisfied: matplotlib!=3.0.0,>=2.0.0 in /usr/local/lib/python3.6/dist-packages (from scikit-image) (3.2.2)\n",
            "Requirement already satisfied: pillow>=4.3.0 in /usr/local/lib/python3.6/dist-packages (from scikit-image) (7.0.0)\n",
            "Requirement already satisfied: imageio>=2.3.0 in /usr/local/lib/python3.6/dist-packages (from scikit-image) (2.4.1)\n",
            "Requirement already satisfied: PyWavelets>=0.4.0 in /usr/local/lib/python3.6/dist-packages (from scikit-image) (1.1.1)\n",
            "Requirement already satisfied: scipy>=0.19.0 in /usr/local/lib/python3.6/dist-packages (from scikit-image) (1.4.1)\n",
            "Requirement already satisfied: networkx>=2.0 in /usr/local/lib/python3.6/dist-packages (from scikit-image) (2.5)\n",
            "Requirement already satisfied: numpy>=1.11 in /usr/local/lib/python3.6/dist-packages (from matplotlib!=3.0.0,>=2.0.0->scikit-image) (1.18.5)\n",
            "Requirement already satisfied: cycler>=0.10 in /usr/local/lib/python3.6/dist-packages (from matplotlib!=3.0.0,>=2.0.0->scikit-image) (0.10.0)\n",
            "Requirement already satisfied: python-dateutil>=2.1 in /usr/local/lib/python3.6/dist-packages (from matplotlib!=3.0.0,>=2.0.0->scikit-image) (2.8.0)\n",
            "Requirement already satisfied: pyparsing!=2.0.4,!=2.1.2,!=2.1.6,>=2.0.1 in /usr/local/lib/python3.6/dist-packages (from matplotlib!=3.0.0,>=2.0.0->scikit-image) (2.4.7)\n",
            "Requirement already satisfied: kiwisolver>=1.0.1 in /usr/local/lib/python3.6/dist-packages (from matplotlib!=3.0.0,>=2.0.0->scikit-image) (1.2.0)\n",
            "Requirement already satisfied: decorator>=4.3.0 in /usr/local/lib/python3.6/dist-packages (from networkx>=2.0->scikit-image) (4.4.2)\n",
            "Requirement already satisfied: six in /usr/local/lib/python3.6/dist-packages (from cycler>=0.10->matplotlib!=3.0.0,>=2.0.0->scikit-image) (1.15.0)\n"
          ],
          "name": "stdout"
        }
      ]
    },
    {
      "cell_type": "code",
      "metadata": {
        "id": "lUBVhxqWxYN5"
      },
      "source": [
        "from PIL import Image\n",
        "import numpy as np\n",
        "import matplotlib.pyplot as plt\n",
        "from numba import jit,cuda\n",
        "import os\n",
        "import geojson\n",
        "import cv2\n",
        "import pandas as pd\n",
        "import rasterio\n",
        "import skimage\n",
        "#import cv2 as cv\n",
        "#import torch,torchvision \n",
        "#import lmdb\n",
        "#import py_wsi\n",
        "#import py_wsi.imagepy_toolkit as tk"
      ],
      "execution_count": 145,
      "outputs": []
    },
    {
      "cell_type": "code",
      "metadata": {
        "id": "0uo2XgZiE51o"
      },
      "source": [
        "from skimage.draw import polygon,polygon2mask"
      ],
      "execution_count": 146,
      "outputs": []
    },
    {
      "cell_type": "code",
      "metadata": {
        "id": "kiHpF5Fz98FL"
      },
      "source": [
        "with open('/content/countries.geo.json') as f:\n",
        "  s=f.read()"
      ],
      "execution_count": 544,
      "outputs": []
    },
    {
      "cell_type": "code",
      "metadata": {
        "id": "3yOeGrMY-jJx"
      },
      "source": [
        "#s"
      ],
      "execution_count": 545,
      "outputs": []
    },
    {
      "cell_type": "code",
      "metadata": {
        "id": "cNTfDmxp9eOC"
      },
      "source": [
        "loader=geojson.loads(s)"
      ],
      "execution_count": 546,
      "outputs": []
    },
    {
      "cell_type": "code",
      "metadata": {
        "id": "uCQBcIKDQjHQ"
      },
      "source": [
        "#len(loader['features'])"
      ],
      "execution_count": 547,
      "outputs": []
    },
    {
      "cell_type": "code",
      "metadata": {
        "id": "SOxGYzpAmKg-"
      },
      "source": [
        "#loader['features'][28]"
      ],
      "execution_count": 548,
      "outputs": []
    },
    {
      "cell_type": "code",
      "metadata": {
        "id": "EfZsVp-Nj1_L"
      },
      "source": [
        "#len(loader['features'][28]['geometry']['coordinates'][1][0])"
      ],
      "execution_count": 549,
      "outputs": []
    },
    {
      "cell_type": "code",
      "metadata": {
        "id": "eNdv4jqGWaA8"
      },
      "source": [
        "# reads data\n",
        "def cords_loader(loader):\n",
        "  coordinates=[]\n",
        "  for i in range(len(loader['features'])):\n",
        "    if loader['features'][i]['geometry']['type']=='Polygon':\n",
        "      coordinates.append(loader['features'][i]['geometry']['coordinates'][0])\n",
        "    #Testing Addition\n",
        "    elif loader['features'][i]['geometry']['type']=='MultiPolygon':\n",
        "      for j in range(len(loader['features'][i]['geometry']['coordinates'])):\n",
        "        coordinates.append(loader['features'][i]['geometry']['coordinates'][j][0])\n",
        "  return coordinates\n",
        "\n",
        "    "
      ],
      "execution_count": 550,
      "outputs": []
    },
    {
      "cell_type": "code",
      "metadata": {
        "id": "-8fvm6B-lFMy"
      },
      "source": [
        "#len(coordinates)"
      ],
      "execution_count": 551,
      "outputs": []
    },
    {
      "cell_type": "code",
      "metadata": {
        "id": "EQk2mL4RdD3H"
      },
      "source": [
        "#np.add(100,coordinates[0])"
      ],
      "execution_count": 552,
      "outputs": []
    },
    {
      "cell_type": "code",
      "metadata": {
        "id": "XAKcSO35W6kp"
      },
      "source": [
        "#offsets data to avoid negative integers\n",
        "def cvt_cords2int(coordinates):\n",
        "  cords_int=[]\n",
        "  for i in range(len(coordinates)):\n",
        "    cords_int.append(np.add(200,coordinates[i]).astype('int32'))\n",
        "  return cords_int"
      ],
      "execution_count": 553,
      "outputs": []
    },
    {
      "cell_type": "code",
      "metadata": {
        "id": "iAz1T1AseIhS"
      },
      "source": [
        "#generates an empty image\n"
      ],
      "execution_count": 554,
      "outputs": []
    },
    {
      "cell_type": "code",
      "metadata": {
        "id": "K8y7XNDPo4kq"
      },
      "source": [
        "def int2mask(cords_int,mask_size):\n",
        "  mask=np.zeros(mask_size,dtype=np.bool)\n",
        "  for i in range(len(cords_int)):\n",
        "    mask=np.logical_or(mask,polygon2mask(mask_size,cords_int[i]))\n",
        "  return mask"
      ],
      "execution_count": 579,
      "outputs": []
    },
    {
      "cell_type": "code",
      "metadata": {
        "id": "EqtPFAl4pHa9"
      },
      "source": [
        "def draw_mask(loader,mask_size):\n",
        "  coordinates=cords_loader(loader)\n",
        "  cords_int=cvt_cords2int(coordinates)\n",
        "  return int2mask(cords_int,mask_size)"
      ],
      "execution_count": 580,
      "outputs": []
    },
    {
      "cell_type": "code",
      "metadata": {
        "id": "s-YmRPzUfYnC"
      },
      "source": [
        "#pg=polygon(cords_int[0][:,0],cords_int[0][:,1])\n",
        "#pg[1]\n"
      ],
      "execution_count": 563,
      "outputs": []
    },
    {
      "cell_type": "code",
      "metadata": {
        "id": "CsxrLrzOezz6"
      },
      "source": [
        "#cords_int[0][:,0]"
      ],
      "execution_count": 564,
      "outputs": []
    },
    {
      "cell_type": "code",
      "metadata": {
        "id": "CNtxoEDYdw9x"
      },
      "source": [
        "# combines all masks\n",
        "#for i in range(len(cords_int)):\n",
        "  #pg=polygon(cords_int[i][:,0],cords_int[i][:,1])\n",
        " # mask=np.logical_or(mask,polygon2mask((1024,1024),cords_int[i]))"
      ],
      "execution_count": 565,
      "outputs": []
    },
    {
      "cell_type": "code",
      "metadata": {
        "id": "blT8Te-jb9eH"
      },
      "source": [
        "#polygon2mask((512,512),cords_int[0])"
      ],
      "execution_count": 566,
      "outputs": []
    },
    {
      "cell_type": "code",
      "metadata": {
        "id": "88jU339dq3Bg"
      },
      "source": [
        "#mask=draw_mask(loader)"
      ],
      "execution_count": 577,
      "outputs": []
    },
    {
      "cell_type": "code",
      "metadata": {
        "id": "-0bw15uwrH9Q",
        "outputId": "1d23ef3b-4b91-47eb-c312-f79cf1147dc9",
        "colab": {
          "base_uri": "https://localhost:8080/",
          "height": 286
        }
      },
      "source": [
        "#plt.imshow(mask,cmap='binary_r')"
      ],
      "execution_count": 578,
      "outputs": [
        {
          "output_type": "execute_result",
          "data": {
            "text/plain": [
              "<matplotlib.image.AxesImage at 0x7f77b5a66ba8>"
            ]
          },
          "metadata": {
            "tags": []
          },
          "execution_count": 578
        },
        {
          "output_type": "display_data",
          "data": {
            "image/png": "[encoded data removed]",
            "text/plain": [
              "<Figure size 432x288 with 1 Axes>"
            ]
          },
          "metadata": {
            "tags": [],
            "needs_background": "light"
          }
        }
      ]
    },
    {
      "cell_type": "code",
      "metadata": {
        "id": "qjPZQzLVR8iF"
      },
      "source": [
        "def draw_mask(loader):\n",
        "  coordinates=[]\n",
        "  # reads data\n",
        "  for i in range(len(loader['features'])):\n",
        "    if loader['features'][i]['geometry']['type']=='Polygon':\n",
        "      coordinates.append(loader['features'][i]['geometry']['coordinates'][0])\n",
        "    #Testing Addition\n",
        "    elif loader['features'][i]['geometry']['type']=='MultiPolygon':\n",
        "      for j in range(len(loader['features'][i]['geometry']['coordinates'])):\n",
        "        coordinates.append(loader['features'][i]['geometry']['coordinates'][j][0])\n",
        "  #offsets data to avoid negative integers\n",
        "  cords_int=[]\n",
        "  for i in range(len(coordinates)):\n",
        "    cords_int.append(np.add(200,coordinates[i]).astype('int32'))\n",
        "  #generates black image\n",
        "  mask=np.zeros((512,512),dtype=np.bool)\n",
        "  # combines all masks\n",
        "  for i in range(len(cords_int)):\n",
        "    mask=np.logical_or(mask,polygon2mask((512,512),cords_int[i]))\n",
        "  return mask"
      ],
      "execution_count": 576,
      "outputs": []
    },
    {
      "cell_type": "code",
      "metadata": {
        "id": "mEnQdSVlp1Av"
      },
      "source": [
        "mask_size=(512,512)"
      ],
      "execution_count": 581,
      "outputs": []
    },
    {
      "cell_type": "code",
      "metadata": {
        "id": "U9ygYXpWGYfE",
        "outputId": "2d7a6f9a-d55e-4d77-ecf8-bf554f7f5b21",
        "colab": {
          "base_uri": "https://localhost:8080/",
          "height": 538
        }
      },
      "source": [
        "plt.figure()\n",
        "plt.imshow(draw_mask(loader,mask_size),cmap='binary_r')\n",
        "plt.figure()\n",
        "plt.imshow(np.rot90(draw_mask(loader,mask_size),1),cmap='binary_r')"
      ],
      "execution_count": 582,
      "outputs": [
        {
          "output_type": "execute_result",
          "data": {
            "text/plain": [
              "<matplotlib.image.AxesImage at 0x7f77b5402da0>"
            ]
          },
          "metadata": {
            "tags": []
          },
          "execution_count": 582
        },
        {
          "output_type": "display_data",
          "data": {
            "image/png": "[encoded data removed]",
            "text/plain": [
              "<Figure size 432x288 with 1 Axes>"
            ]
          },
          "metadata": {
            "tags": [],
            "needs_background": "light"
          }
        },
        {
          "output_type": "display_data",
          "data": {
            "image/png": "[encoded data removed]",
            "text/plain": [
              "<Figure size 432x288 with 1 Axes>"
            ]
          },
          "metadata": {
            "tags": [],
            "needs_background": "light"
          }
        }
      ]
    },
    {
      "cell_type": "code",
      "metadata": {
        "id": "gG6qNarOAN7-"
      },
      "source": [
        "\n",
        "coordinates=loader['features'][0]['geometry']['coordinates'][0]\n",
        "np_cords=np.array(coordinates)"
      ],
      "execution_count": 172,
      "outputs": []
    },
    {
      "cell_type": "code",
      "metadata": {
        "id": "fJyyZoJlFlcm"
      },
      "source": [
        "cords_int=np_cords.astype('int32')"
      ],
      "execution_count": 173,
      "outputs": []
    },
    {
      "cell_type": "code",
      "metadata": {
        "id": "JJ9KCGHrH0oj",
        "outputId": "3326596c-e233-4c8c-fee4-c672b069a283",
        "colab": {
          "base_uri": "https://localhost:8080/",
          "height": 102
        }
      },
      "source": [
        "cords_int[:5]"
      ],
      "execution_count": 174,
      "outputs": [
        {
          "output_type": "execute_result",
          "data": {
            "text/plain": [
              "array([[61, 35],\n",
              "       [62, 35],\n",
              "       [62, 35],\n",
              "       [63, 35],\n",
              "       [63, 36]], dtype=int32)"
            ]
          },
          "metadata": {
            "tags": []
          },
          "execution_count": 174
        }
      ]
    },
    {
      "cell_type": "code",
      "metadata": {
        "id": "G7-2Erz5FGt5"
      },
      "source": [
        "pg=polygon(cords_int[:,1],cords_int[:,0])"
      ],
      "execution_count": 175,
      "outputs": []
    },
    {
      "cell_type": "code",
      "metadata": {
        "id": "ZhIyx5d0KXPO",
        "outputId": "01c8f77b-0ecd-4e9e-9cb2-e881de597155",
        "colab": {
          "base_uri": "https://localhost:8080/",
          "height": 153
        }
      },
      "source": [
        "pg"
      ],
      "execution_count": 176,
      "outputs": [
        {
          "output_type": "execute_result",
          "data": {
            "text/plain": [
              "(array([29, 29, 29, 29, 29, 29, 30, 30, 30, 30, 30, 31, 31, 31, 31, 31, 31,\n",
              "        31, 31, 31, 32, 32, 32, 32, 32, 32, 32, 32, 32, 33, 33, 33, 33, 33,\n",
              "        33, 33, 33, 33, 33, 34, 34, 34, 34, 34, 34, 34, 34, 34, 34, 34, 35,\n",
              "        35, 35, 35, 35, 35, 35, 35, 36, 36, 36, 36, 36, 36, 36, 36, 36, 37]),\n",
              " array([60, 61, 62, 63, 64, 65, 61, 62, 63, 64, 65, 60, 61, 62, 63, 64, 65,\n",
              "        66, 67, 68, 60, 61, 62, 63, 64, 65, 66, 67, 68, 60, 61, 62, 63, 64,\n",
              "        65, 66, 67, 68, 69, 60, 61, 62, 63, 64, 65, 66, 67, 68, 69, 70, 63,\n",
              "        64, 65, 66, 67, 68, 69, 70, 64, 65, 66, 67, 68, 69, 70, 72, 73, 70]))"
            ]
          },
          "metadata": {
            "tags": []
          },
          "execution_count": 176
        }
      ]
    },
    {
      "cell_type": "code",
      "metadata": {
        "id": "Cqk3AXIcLP_4"
      },
      "source": [
        ""
      ],
      "execution_count": 176,
      "outputs": []
    },
    {
      "cell_type": "code",
      "metadata": {
        "id": "7IuNNPTNF2Ee"
      },
      "source": [
        "#pol=np.array([[2,3],[3,1],[4,0]])\n",
        "mask=polygon2mask((256,256),cords_int[0])"
      ],
      "execution_count": 364,
      "outputs": []
    },
    {
      "cell_type": "code",
      "metadata": {
        "id": "Ub7tyXB8GraC",
        "outputId": "236afc6e-57c9-4051-d90f-f40aa641b3f3",
        "colab": {
          "base_uri": "https://localhost:8080/",
          "height": 136
        }
      },
      "source": [
        "mask"
      ],
      "execution_count": 365,
      "outputs": [
        {
          "output_type": "execute_result",
          "data": {
            "text/plain": [
              "array([[False, False, False, ..., False, False, False],\n",
              "       [False, False, False, ..., False, False, False],\n",
              "       [False, False, False, ..., False, False, False],\n",
              "       ...,\n",
              "       [False, False, False, ..., False, False, False],\n",
              "       [False, False, False, ..., False, False, False],\n",
              "       [False, False, False, ..., False, False, False]])"
            ]
          },
          "metadata": {
            "tags": []
          },
          "execution_count": 365
        }
      ]
    },
    {
      "cell_type": "markdown",
      "metadata": {
        "id": "lzuinasQ9ezB"
      },
      "source": [
        "#Temp\n"
      ]
    },
    {
      "cell_type": "code",
      "metadata": {
        "id": "13ZfigvKcpgO"
      },
      "source": [
        "grid_name = '6010_4_2'\n",
        "data_dir = '/content/'\n",
        "shape = (3345, 3396)\n",
        "\n",
        "# Load grid CSV\n",
        "grid_sizes = pd.read_csv(os.path.join(data_dir, 'grid_sizes.csv'), index_col=0)\n",
        "grid_sizes.ix[grid_name]\n"
      ],
      "execution_count": null,
      "outputs": []
    },
    {
      "cell_type": "code",
      "metadata": {
        "id": "QtfU2rmm0kWO"
      },
      "source": [
        "def scale_coords(shape, grid_name, point):\n",
        "    \"\"\"Scale the coordinates of a polygon into the image coordinates for a grid cell\"\"\"\n",
        "    w,h = shape\n",
        "    Xmax, Ymin = grid_sizes.ix[grid_name][['Xmax', 'Ymin']]\n",
        "    x,y = point[:,0], point[:,1]\n",
        "\n",
        "    wp = float(w**2)/(w+1)\n",
        "    xp = x/Xmax*wp\n",
        "\n",
        "    hp = float(h**2)/(h+1)\n",
        "    yp = y/Ymin*hp\n",
        "\n",
        "    return np.concatenate([xp[:,None],yp[:,None]], axis=1)\n",
        "    "
      ],
      "execution_count": null,
      "outputs": []
    },
    {
      "cell_type": "code",
      "metadata": {
        "id": "CNkgtgUtv5Ca"
      },
      "source": [
        "sh_fname = os.path.join(data_dir, 'train_geojson_v3/%s/002_TR_L4_POOR_DIRT_CART_TRACK.geojson'%grid_name)\n",
        "with open(sh_fname, 'r') as f:\n",
        "    sh_json = json.load(f)\n",
        "\n",
        "# Scale the polygon coordinates to match the pixels\n",
        "polys = []\n",
        "for sh in sh_json['features']:\n",
        "    geom = np.array(sh['geometry']['coordinates'][0])\n",
        "    geom_fixed = scale_coords(shape, grid_name, geom)\n",
        "\n",
        "    pts = geom_fixed.astype(int)\n",
        "    polys.append(pts)\n",
        "\n",
        "# Create an empty mask and then fill in the polygons\n",
        "mask = np.zeros(shape)\n",
        "cv2.fillPoly(mask, polys, 1)\n",
        "mask = mask.astype(bool)\n",
        "\n",
        "plt.imshow(mask)\n",
        "#<matplotlib.image.AxesImage at 0x7f6c2509e828>"
      ],
      "execution_count": null,
      "outputs": []
    },
    {
      "cell_type": "code",
      "metadata": {
        "id": "OP66wFjsdAyk"
      },
      "source": [
        ""
      ],
      "execution_count": null,
      "outputs": []
    }
  ]
}