{
  "nbformat": 4,
  "nbformat_minor": 0,
  "metadata": {
    "colab": {
      "name": "MaskGeneration.ipynb",
      "provenance": [],
      "collapsed_sections": [
        "ZszWqhRG3PSu",
        "IoYOJ7OU7G_w",
        "QDUiBkIX7VHM"
      ]
    },
    "kernelspec": {
      "name": "python3",
      "display_name": "Python 3"
    },
    "accelerator": "GPU"
  },
  "cells": [
    {
      "cell_type": "markdown",
      "metadata": {
        "id": "Nx6o9MjU3e7Y"
      },
      "source": [
        "#Main Code"
      ]
    },
    {
      "cell_type": "code",
      "metadata": {
        "id": "qd0vlujei8p0",
        "outputId": "657500db-701f-448d-98b7-1e426df820bd",
        "colab": {
          "base_uri": "https://localhost:8080/",
          "height": 34
        }
      },
      "source": [
        "!pip install geojson"
      ],
      "execution_count": 1,
      "outputs": [
        {
          "output_type": "stream",
          "text": [
            "Requirement already satisfied: geojson in /usr/local/lib/python3.6/dist-packages (2.5.0)\n"
          ],
          "name": "stdout"
        }
      ]
    },
    {
      "cell_type": "code",
      "metadata": {
        "id": "hZv7RGAiBPBs",
        "outputId": "75b53ef2-d122-4747-f078-324a6c34fdbc",
        "colab": {
          "base_uri": "https://localhost:8080/",
          "height": 277
        }
      },
      "source": [
        "!pip install scikit-image"
      ],
      "execution_count": 2,
      "outputs": [
        {
          "output_type": "stream",
          "text": [
            "Requirement already satisfied: scikit-image in /usr/local/lib/python3.6/dist-packages (0.16.2)\n",
            "Requirement already satisfied: PyWavelets>=0.4.0 in /usr/local/lib/python3.6/dist-packages (from scikit-image) (1.1.1)\n",
            "Requirement already satisfied: matplotlib!=3.0.0,>=2.0.0 in /usr/local/lib/python3.6/dist-packages (from scikit-image) (3.2.2)\n",
            "Requirement already satisfied: networkx>=2.0 in /usr/local/lib/python3.6/dist-packages (from scikit-image) (2.5)\n",
            "Requirement already satisfied: imageio>=2.3.0 in /usr/local/lib/python3.6/dist-packages (from scikit-image) (2.4.1)\n",
            "Requirement already satisfied: scipy>=0.19.0 in /usr/local/lib/python3.6/dist-packages (from scikit-image) (1.4.1)\n",
            "Requirement already satisfied: pillow>=4.3.0 in /usr/local/lib/python3.6/dist-packages (from scikit-image) (7.0.0)\n",
            "Requirement already satisfied: numpy>=1.13.3 in /usr/local/lib/python3.6/dist-packages (from PyWavelets>=0.4.0->scikit-image) (1.18.5)\n",
            "Requirement already satisfied: python-dateutil>=2.1 in /usr/local/lib/python3.6/dist-packages (from matplotlib!=3.0.0,>=2.0.0->scikit-image) (2.8.1)\n",
            "Requirement already satisfied: kiwisolver>=1.0.1 in /usr/local/lib/python3.6/dist-packages (from matplotlib!=3.0.0,>=2.0.0->scikit-image) (1.2.0)\n",
            "Requirement already satisfied: cycler>=0.10 in /usr/local/lib/python3.6/dist-packages (from matplotlib!=3.0.0,>=2.0.0->scikit-image) (0.10.0)\n",
            "Requirement already satisfied: pyparsing!=2.0.4,!=2.1.2,!=2.1.6,>=2.0.1 in /usr/local/lib/python3.6/dist-packages (from matplotlib!=3.0.0,>=2.0.0->scikit-image) (2.4.7)\n",
            "Requirement already satisfied: decorator>=4.3.0 in /usr/local/lib/python3.6/dist-packages (from networkx>=2.0->scikit-image) (4.4.2)\n",
            "Requirement already satisfied: six>=1.5 in /usr/local/lib/python3.6/dist-packages (from python-dateutil>=2.1->matplotlib!=3.0.0,>=2.0.0->scikit-image) (1.15.0)\n"
          ],
          "name": "stdout"
        }
      ]
    },
    {
      "cell_type": "code",
      "metadata": {
        "id": "lUBVhxqWxYN5"
      },
      "source": [
        "from PIL import Image\n",
        "import numpy as np\n",
        "import matplotlib.pyplot as plt\n",
        "from numba import jit,cuda\n",
        "import os\n",
        "import geojson\n",
        "import cv2\n",
        "import skimage\n",
        "#import torch,torchvision \n",
        "#import lmdb"
      ],
      "execution_count": 3,
      "outputs": []
    },
    {
      "cell_type": "code",
      "metadata": {
        "id": "0uo2XgZiE51o"
      },
      "source": [
        "from skimage.draw import polygon,polygon2mask"
      ],
      "execution_count": 4,
      "outputs": []
    },
    {
      "cell_type": "code",
      "metadata": {
        "id": "kiHpF5Fz98FL"
      },
      "source": [
        "with open('/content/annot2.geo.json') as f:\n",
        "  s=f.read()"
      ],
      "execution_count": 5,
      "outputs": []
    },
    {
      "cell_type": "code",
      "metadata": {
        "id": "cNTfDmxp9eOC"
      },
      "source": [
        "loader=geojson.loads(s)"
      ],
      "execution_count": 6,
      "outputs": []
    },
    {
      "cell_type": "code",
      "metadata": {
        "id": "3yOeGrMY-jJx",
        "outputId": "444db397-bf40-4e11-ba8b-c86a4f242b4b",
        "colab": {
          "base_uri": "https://localhost:8080/",
          "height": 54
        }
      },
      "source": [
        "loader[0]"
      ],
      "execution_count": 7,
      "outputs": [
        {
          "output_type": "execute_result",
          "data": {
            "text/plain": [
              "{\"geometry\": {\"coordinates\": [[[24256.98, 25162.44], [24226.3, 25162.45], [24199.03, 25173.92], [24178.41, 25194.52], [24166.92, 25221.78], [24162.3, 25258.59], [24165.99, 25306.5], [24180.95, 25333], [24203.08, 25354.76], [24245.17, 25373.16], [24272.98, 25373.96], [24291.61, 25369.07], [24295.21, 25366.98], [24307.51, 25361.22], [24318.49, 25353.45], [24318.5, 25353.45], [24326.22, 25345.89], [24332.82, 25337.31], [24338.17, 25327.84], [24342.14, 25317.58], [24344.62, 25306.66], [24345.47, 25295.22], [24344.98, 25286.51], [24343.54, 25278.08], [24341.21, 25270], [24338.03, 25262.31], [24334.07, 25255.07], [24329.37, 25248.33], [24324, 25242.15], [24317.99, 25236.58], [24304.75, 25194.24], [24284.16, 25173.81], [24256.98, 25162.44]]], \"type\": \"Polygon\"}, \"id\": \"PathAnnotationObject\", \"properties\": {\"classification\": {\"colorRGB\": -14336, \"name\": \"Other\"}, \"isLocked\": false, \"measurements\": []}, \"type\": \"Feature\"}"
            ]
          },
          "metadata": {
            "tags": []
          },
          "execution_count": 7
        }
      ]
    },
    {
      "cell_type": "code",
      "metadata": {
        "id": "uCQBcIKDQjHQ"
      },
      "source": [
        "#len(loader['features'])"
      ],
      "execution_count": 8,
      "outputs": []
    },
    {
      "cell_type": "code",
      "metadata": {
        "id": "SOxGYzpAmKg-"
      },
      "source": [
        "#loader['features'][170]"
      ],
      "execution_count": 9,
      "outputs": []
    },
    {
      "cell_type": "code",
      "metadata": {
        "id": "EfZsVp-Nj1_L"
      },
      "source": [
        "#len(loader['features'][28]['geometry']['coordinates'][1][0])"
      ],
      "execution_count": 10,
      "outputs": []
    },
    {
      "cell_type": "code",
      "metadata": {
        "id": "-8fvm6B-lFMy"
      },
      "source": [
        "#len(coordinates)"
      ],
      "execution_count": 11,
      "outputs": []
    },
    {
      "cell_type": "code",
      "metadata": {
        "id": "EQk2mL4RdD3H",
        "outputId": "e8a378eb-2277-477e-f929-89cd744a965b",
        "colab": {
          "base_uri": "https://localhost:8080/",
          "height": 583
        }
      },
      "source": [
        "#np.add(-24150,loader[0]['geometry']['coordinates'][0])\n",
        "a=loader[0]['geometry']['coordinates'][0]\n",
        "a"
      ],
      "execution_count": 58,
      "outputs": [
        {
          "output_type": "execute_result",
          "data": {
            "text/plain": [
              "[[24256.98, 25162.44],\n",
              " [24284.16, 25173.81],\n",
              " [24304.75, 25194.24],\n",
              " [24317.99, 25236.58],\n",
              " [24324, 25242.15],\n",
              " [24329.37, 25248.33],\n",
              " [24334.07, 25255.07],\n",
              " [24338.03, 25262.31],\n",
              " [24341.21, 25270],\n",
              " [24343.54, 25278.08],\n",
              " [24344.98, 25286.51],\n",
              " [24345.47, 25295.22],\n",
              " [24344.62, 25306.66],\n",
              " [24342.14, 25317.58],\n",
              " [24338.17, 25327.84],\n",
              " [24332.82, 25337.31],\n",
              " [24326.22, 25345.89],\n",
              " [24318.5, 25353.45],\n",
              " [24318.49, 25353.45],\n",
              " [24307.51, 25361.22],\n",
              " [24295.21, 25366.98],\n",
              " [24291.61, 25369.07],\n",
              " [24272.98, 25373.96],\n",
              " [24245.17, 25373.16],\n",
              " [24203.08, 25354.76],\n",
              " [24180.95, 25333],\n",
              " [24165.99, 25306.5],\n",
              " [24162.3, 25258.59],\n",
              " [24166.92, 25221.78],\n",
              " [24178.41, 25194.52],\n",
              " [24199.03, 25173.92],\n",
              " [24226.3, 25162.45],\n",
              " [24256.98, 25162.44]]"
            ]
          },
          "metadata": {
            "tags": []
          },
          "execution_count": 58
        }
      ]
    },
    {
      "cell_type": "code",
      "metadata": {
        "id": "Dd3AUouUuyY-",
        "outputId": "73e7a10d-174d-42e0-cc40-bdb690e4cc5b",
        "colab": {
          "base_uri": "https://localhost:8080/",
          "height": 583
        }
      },
      "source": [
        "newa=np.flip(a,axis=1)\n",
        "newa\n"
      ],
      "execution_count": 59,
      "outputs": [
        {
          "output_type": "execute_result",
          "data": {
            "text/plain": [
              "array([[25162.44, 24256.98],\n",
              "       [25173.81, 24284.16],\n",
              "       [25194.24, 24304.75],\n",
              "       [25236.58, 24317.99],\n",
              "       [25242.15, 24324.  ],\n",
              "       [25248.33, 24329.37],\n",
              "       [25255.07, 24334.07],\n",
              "       [25262.31, 24338.03],\n",
              "       [25270.  , 24341.21],\n",
              "       [25278.08, 24343.54],\n",
              "       [25286.51, 24344.98],\n",
              "       [25295.22, 24345.47],\n",
              "       [25306.66, 24344.62],\n",
              "       [25317.58, 24342.14],\n",
              "       [25327.84, 24338.17],\n",
              "       [25337.31, 24332.82],\n",
              "       [25345.89, 24326.22],\n",
              "       [25353.45, 24318.5 ],\n",
              "       [25353.45, 24318.49],\n",
              "       [25361.22, 24307.51],\n",
              "       [25366.98, 24295.21],\n",
              "       [25369.07, 24291.61],\n",
              "       [25373.96, 24272.98],\n",
              "       [25373.16, 24245.17],\n",
              "       [25354.76, 24203.08],\n",
              "       [25333.  , 24180.95],\n",
              "       [25306.5 , 24165.99],\n",
              "       [25258.59, 24162.3 ],\n",
              "       [25221.78, 24166.92],\n",
              "       [25194.52, 24178.41],\n",
              "       [25173.92, 24199.03],\n",
              "       [25162.45, 24226.3 ],\n",
              "       [25162.44, 24256.98]])"
            ]
          },
          "metadata": {
            "tags": []
          },
          "execution_count": 59
        }
      ]
    },
    {
      "cell_type": "markdown",
      "metadata": {
        "id": "VuQ7L4Q_6-7d"
      },
      "source": [
        "#Important Functions\n"
      ]
    },
    {
      "cell_type": "code",
      "metadata": {
        "id": "eNdv4jqGWaA8"
      },
      "source": [
        "# reads data\n",
        "def cords_loader(loader):\n",
        "  coordinates=[]\n",
        "  for i in range(len(loader)):\n",
        "    if loader[i]['geometry']['type']=='Polygon':\n",
        "      coordinates.append(np.flip(loader[i]['geometry']['coordinates'][0],axis=1))\n",
        "    #Testing Addition\n",
        "    elif loader [i]['geometry']['type']=='MultiPolygon':\n",
        "      for j in range(len(loader[i]['geometry']['coordinates'])):\n",
        "        coordinates.append(np.flip(loader[i]['geometry']['coordinates'][j][0],axis=1))\n",
        "  return coordinates\n",
        "\n",
        "    "
      ],
      "execution_count": 60,
      "outputs": []
    },
    {
      "cell_type": "code",
      "metadata": {
        "id": "XAKcSO35W6kp"
      },
      "source": [
        "#offsets data to avoid negative integers\n",
        "def cvt_cords2int(coordinates,offset):\n",
        "  cords_int=[]\n",
        "  for i in range(len(coordinates)):\n",
        "    cords_int.append(np.add(offset,coordinates[i]).astype('int32'))\n",
        "  return cords_int"
      ],
      "execution_count": 61,
      "outputs": []
    },
    {
      "cell_type": "code",
      "metadata": {
        "id": "K8y7XNDPo4kq"
      },
      "source": [
        "def int2mask(cords_int,mask_size):\n",
        "  mask=np.zeros(mask_size,dtype=np.bool)\n",
        "  for i in range(len(cords_int)):\n",
        "    mask=np.logical_or(mask,polygon2mask(mask_size,cords_int[i]))\n",
        "  return mask"
      ],
      "execution_count": 62,
      "outputs": []
    },
    {
      "cell_type": "code",
      "metadata": {
        "id": "EqtPFAl4pHa9"
      },
      "source": [
        "def draw_mask(loader,mask_size,offset):\n",
        "  coordinates=cords_loader(loader)\n",
        "  cords_int=cvt_cords2int(coordinates,offset)\n",
        "  return int2mask(cords_int,mask_size)"
      ],
      "execution_count": 63,
      "outputs": []
    },
    {
      "cell_type": "markdown",
      "metadata": {
        "id": "6ZIdj0VW7NGD"
      },
      "source": [
        "#Image Display"
      ]
    },
    {
      "cell_type": "code",
      "metadata": {
        "id": "mEnQdSVlp1Av"
      },
      "source": [
        "mask_size=(35999,35844)\n",
        "offset=0"
      ],
      "execution_count": 64,
      "outputs": []
    },
    {
      "cell_type": "code",
      "metadata": {
        "id": "KN86jHI3TSY2"
      },
      "source": [
        "#ld=loader[:3]\n",
        "#ld"
      ],
      "execution_count": 18,
      "outputs": []
    },
    {
      "cell_type": "code",
      "metadata": {
        "id": "q8-68_zzTLgJ"
      },
      "source": [
        "#maskImg1=np.rot90(draw_mask(ld,(2048,2048),-24150),1)"
      ],
      "execution_count": 19,
      "outputs": []
    },
    {
      "cell_type": "code",
      "metadata": {
        "id": "rcDY3Bg_Ri3y"
      },
      "source": [
        "maskImg=draw_mask(loader,mask_size,0)"
      ],
      "execution_count": 65,
      "outputs": []
    },
    {
      "cell_type": "code",
      "metadata": {
        "id": "Yj40ae24b466"
      },
      "source": [
        "#newImg=maskImg.astype(int)"
      ],
      "execution_count": 21,
      "outputs": []
    },
    {
      "cell_type": "code",
      "metadata": {
        "id": "1MWb1kmYg3qH"
      },
      "source": [
        "def corr_dim(x,y,tileSize):\n",
        "  x=x-(x%tileSize)\n",
        "  y=y-(y%tileSize)\n",
        "  return (x,y)"
      ],
      "execution_count": 66,
      "outputs": []
    },
    {
      "cell_type": "code",
      "metadata": {
        "id": "aFXe8mEBig_-"
      },
      "source": [
        "def saveFun(i,j,maskImg):\n",
        "  if not os.path.exists('/content/drive/My Drive/Datasets/WSI/01_tiles_annt'):\n",
        "    os.mkdir('/content/drive/My Drive/Datasets/WSI/01_tiles_annt')\n",
        "  cv2.imwrite(f'/content/drive/My Drive/Datasets/WSI/01_tiles_annt/mask{i}_{j}.png', maskImg*255)"
      ],
      "execution_count": 71,
      "outputs": []
    },
    {
      "cell_type": "code",
      "metadata": {
        "id": "thYhSNiogfi1"
      },
      "source": [
        "@jit\n",
        "def saveImg(maskImg,tileSize):\n",
        "  x,y=maskImg.shape\n",
        "  x,y=corr_dim(x,y,tileSize)\n",
        "  for i in range(0,x,tileSize):\n",
        "    for j in range(0,y,tileSize):\n",
        "      saveFun(i,j,maskImg[i:i+tileSize,j:j+tileSize])"
      ],
      "execution_count": 72,
      "outputs": []
    },
    {
      "cell_type": "code",
      "metadata": {
        "id": "WMoBAh5XqDEb"
      },
      "source": [
        "#plt.imshow(maskImg[26880:,26880:],cmap='binary_r')"
      ],
      "execution_count": 69,
      "outputs": []
    },
    {
      "cell_type": "code",
      "metadata": {
        "id": "mAB2JYMyjdQU"
      },
      "source": [
        "saveImg(maskImg,1024)"
      ],
      "execution_count": null,
      "outputs": []
    },
    {
      "cell_type": "code",
      "metadata": {
        "id": "thSO8kN1aZOW"
      },
      "source": [
        "#plt.imshow(cv2.resize(newImg,(1024,1024)),cmap='binary_r')"
      ],
      "execution_count": 67,
      "outputs": []
    },
    {
      "cell_type": "code",
      "metadata": {
        "id": "zSfAr4lTUXdB"
      },
      "source": [
        "plt.imshow(maskImg1,cmap='binary_r')"
      ],
      "execution_count": null,
      "outputs": []
    },
    {
      "cell_type": "code",
      "metadata": {
        "id": "eG80MiyXYDNk"
      },
      "source": [
        "maskImg.shape()"
      ],
      "execution_count": null,
      "outputs": []
    },
    {
      "cell_type": "code",
      "metadata": {
        "id": "IPKGh2DGXNOJ",
        "outputId": "59fe9001-a910-4360-dd19-4d53c6110691",
        "colab": {
          "base_uri": "https://localhost:8080/",
          "height": 34
        }
      },
      "source": [
        "maskImg[1012,106]"
      ],
      "execution_count": 85,
      "outputs": [
        {
          "output_type": "execute_result",
          "data": {
            "text/plain": [
              "False"
            ]
          },
          "metadata": {
            "tags": []
          },
          "execution_count": 85
        }
      ]
    },
    {
      "cell_type": "code",
      "metadata": {
        "id": "5k1bTcYUSBTE"
      },
      "source": [
        "cv2.imwrite('/content/mask.png', maskImg * 255)"
      ],
      "execution_count": null,
      "outputs": []
    },
    {
      "cell_type": "code",
      "metadata": {
        "id": "U9ygYXpWGYfE"
      },
      "source": [
        "#plt.figure(figsize=(10,10))\n",
        "#plt.imshow(draw_mask(loader,mask_size,offset),cmap='binary_r')\n",
        "plt.figure(figsize=(10,10))\n",
        "\n",
        "plt.imshow(np.resize,(1125,1121)),cmap='binary_r')"
      ],
      "execution_count": null,
      "outputs": []
    },
    {
      "cell_type": "code",
      "metadata": {
        "id": "jv_z0j4qxMmU",
        "outputId": "0e55575f-ef19-47e1-d40f-061671e44d5c",
        "colab": {
          "base_uri": "https://localhost:8080/",
          "height": 51
        }
      },
      "source": [
        "print(len(os.listdir('/content/drive/My Drive/Datasets/WSI/01_tiles_annt')))\n",
        "len(os.listdir('/content/drive/My Drive/Datasets/WSI/01_tiles'))"
      ],
      "execution_count": 74,
      "outputs": [
        {
          "output_type": "stream",
          "text": [
            "1225\n"
          ],
          "name": "stdout"
        },
        {
          "output_type": "execute_result",
          "data": {
            "text/plain": [
              "1225"
            ]
          },
          "metadata": {
            "tags": []
          },
          "execution_count": 74
        }
      ]
    },
    {
      "cell_type": "markdown",
      "metadata": {
        "id": "ZszWqhRG3PSu"
      },
      "source": [
        "#Commented"
      ]
    },
    {
      "cell_type": "code",
      "metadata": {
        "id": "1rf7Lb_QzJTD"
      },
      "source": [
        "!pip install --upgrade setuptools pip\n",
        "!pip install openslide\n",
        "!apt update && apt install -y openslide-tools\n",
        "!pip install openslide-python\n",
        "!pip install py_wsi"
      ],
      "execution_count": null,
      "outputs": []
    },
    {
      "cell_type": "code",
      "metadata": {
        "id": "HJhJ0QjP0vXd"
      },
      "source": [
        "!pip install numba"
      ],
      "execution_count": null,
      "outputs": []
    },
    {
      "cell_type": "code",
      "metadata": {
        "id": "7qeJhHx45Rk5"
      },
      "source": [
        "\n",
        "\n",
        "\n",
        "!git clone https://github.com/cosmiq/solaris.git\n",
        "!cd /content/solaris"
      ],
      "execution_count": null,
      "outputs": []
    },
    {
      "cell_type": "code",
      "metadata": {
        "id": "7ILxMsb-h08H"
      },
      "source": [
        "#!pip install -r /content/solaris/requirements.txt"
      ],
      "execution_count": null,
      "outputs": []
    },
    {
      "cell_type": "code",
      "metadata": {
        "id": "UwiCcwndi5yE"
      },
      "source": [
        "!apt install gdal-bin python-gdal python3-gdal --quiet\n",
        "!apt install python3-rtree --quiet\n",
        "!apt install libgdal-dev libproj-dev --quiet\n",
        "!apt install libgeos-dev\n",
        "!pip install git+git://github.com/geopandas/geopandas.git --quiet\n",
        "!pip install descartes --quiet\n",
        "!pip install splot hvplot geoviews --quiet"
      ],
      "execution_count": null,
      "outputs": []
    },
    {
      "cell_type": "code",
      "metadata": {
        "id": "OF8RWYLOkvco"
      },
      "source": [
        "!apt install python-cartopy python3-cartopy --quiet\n",
        "!apt install gdal-bin python-gdal python3-gdal --quiet\n",
        "!apt install python3-rtree --quiet\n",
        "!apt install libgdal-dev libproj-dev --quiet\n",
        "!apt install libgeos-dev\n",
        "!pip install git+git://github.com/geopandas/geopandas.git --quiet\n",
        "!pip install descartes --quiet\n",
        "!pip install urbanaccess pandana pysal --quiet\n",
        "!pip install splot hvplot geoviews --quiet\n",
        "!pip install --no-binary shapely shapely --upgrade --force-reinstall --quiet"
      ],
      "execution_count": null,
      "outputs": []
    },
    {
      "cell_type": "markdown",
      "metadata": {
        "id": "IoYOJ7OU7G_w"
      },
      "source": [
        "#Commented"
      ]
    },
    {
      "cell_type": "code",
      "metadata": {
        "id": "iAz1T1AseIhS"
      },
      "source": [
        "#generates an empty image"
      ],
      "execution_count": null,
      "outputs": []
    },
    {
      "cell_type": "code",
      "metadata": {
        "id": "s-YmRPzUfYnC"
      },
      "source": [
        "#pg=polygon(cords_int[0][:,0],cords_int[0][:,1])\n",
        "#pg[1]\n"
      ],
      "execution_count": null,
      "outputs": []
    },
    {
      "cell_type": "code",
      "metadata": {
        "id": "CsxrLrzOezz6"
      },
      "source": [
        "#cords_int[0][:,0]"
      ],
      "execution_count": null,
      "outputs": []
    },
    {
      "cell_type": "code",
      "metadata": {
        "id": "CNtxoEDYdw9x"
      },
      "source": [
        "# combines all masks\n",
        "#for i in range(len(cords_int)):\n",
        "  #pg=polygon(cords_int[i][:,0],cords_int[i][:,1])\n",
        " # mask=np.logical_or(mask,polygon2mask((1024,1024),cords_int[i]))"
      ],
      "execution_count": null,
      "outputs": []
    },
    {
      "cell_type": "code",
      "metadata": {
        "id": "blT8Te-jb9eH"
      },
      "source": [
        "#polygon2mask((512,512),cords_int[0])"
      ],
      "execution_count": null,
      "outputs": []
    },
    {
      "cell_type": "code",
      "metadata": {
        "id": "88jU339dq3Bg"
      },
      "source": [
        "#mask=draw_mask(loader)"
      ],
      "execution_count": null,
      "outputs": []
    },
    {
      "cell_type": "code",
      "metadata": {
        "id": "-0bw15uwrH9Q"
      },
      "source": [
        "#plt.imshow(mask,cmap='binary_r')"
      ],
      "execution_count": null,
      "outputs": []
    },
    {
      "cell_type": "code",
      "metadata": {
        "id": "qjPZQzLVR8iF",
        "outputId": "d82c5c6a-a066-4b5a-8bf5-b29677c2f869",
        "colab": {
          "base_uri": "https://localhost:8080/",
          "height": 154
        }
      },
      "source": [
        "'''def draw_mask(loader):\n",
        "  coordinates=[]\n",
        "  # reads data\n",
        "  for i in range(len(loader['features'])):\n",
        "    if loader['features'][i]['geometry']['type']=='Polygon':\n",
        "      coordinates.append(loader['features'][i]['geometry']['coordinates'][0])\n",
        "    #Testing Addition\n",
        "    elif loader['features'][i]['geometry']['type']=='MultiPolygon':\n",
        "      for j in range(len(loader['features'][i]['geometry']['coordinates'])):\n",
        "        coordinates.append(loader['features'][i]['geometry']['coordinates'][j][0])\n",
        "  #offsets data to avoid negative integers\n",
        "  cords_int=[]\n",
        "  for i in range(len(coordinates)):\n",
        "    cords_int.append(np.add(200,coordinates[i]).astype('int32'))\n",
        "  #generates black image\n",
        "  mask=np.zeros((512,512),dtype=np.bool)\n",
        "  # combines all masks\n",
        "  for i in range(len(cords_int)):\n",
        "    mask=np.logical_or(mask,polygon2mask((512,512),cords_int[i]))\n",
        "  return mask'''"
      ],
      "execution_count": null,
      "outputs": [
        {
          "output_type": "execute_result",
          "data": {
            "application/vnd.google.colaboratory.intrinsic+json": {
              "type": "string"
            },
            "text/plain": [
              "\"def draw_mask(loader):\\n  coordinates=[]\\n  # reads data\\n  for i in range(len(loader['features'])):\\n    if loader['features'][i]['geometry']['type']=='Polygon':\\n      coordinates.append(loader['features'][i]['geometry']['coordinates'][0])\\n    #Testing Addition\\n    elif loader['features'][i]['geometry']['type']=='MultiPolygon':\\n      for j in range(len(loader['features'][i]['geometry']['coordinates'])):\\n        coordinates.append(loader['features'][i]['geometry']['coordinates'][j][0])\\n  #offsets data to avoid negative integers\\n  cords_int=[]\\n  for i in range(len(coordinates)):\\n    cords_int.append(np.add(200,coordinates[i]).astype('int32'))\\n  #generates black image\\n  mask=np.zeros((512,512),dtype=np.bool)\\n  # combines all masks\\n  for i in range(len(cords_int)):\\n    mask=np.logical_or(mask,polygon2mask((512,512),cords_int[i]))\\n  return mask\""
            ]
          },
          "metadata": {
            "tags": []
          },
          "execution_count": 24
        }
      ]
    },
    {
      "cell_type": "markdown",
      "metadata": {
        "id": "QDUiBkIX7VHM"
      },
      "source": [
        "#Commented"
      ]
    },
    {
      "cell_type": "code",
      "metadata": {
        "id": "gG6qNarOAN7-"
      },
      "source": [
        "\n",
        "coordinates=loader['features'][0]['geometry']['coordinates'][0]\n",
        "np_cords=np.array(coordinates)"
      ],
      "execution_count": null,
      "outputs": []
    },
    {
      "cell_type": "code",
      "metadata": {
        "id": "fJyyZoJlFlcm"
      },
      "source": [
        "cords_int=np_cords.astype('int32')"
      ],
      "execution_count": null,
      "outputs": []
    },
    {
      "cell_type": "code",
      "metadata": {
        "id": "JJ9KCGHrH0oj",
        "outputId": "3326596c-e233-4c8c-fee4-c672b069a283",
        "colab": {
          "base_uri": "https://localhost:8080/",
          "height": 102
        }
      },
      "source": [
        "cords_int[:5]"
      ],
      "execution_count": null,
      "outputs": [
        {
          "output_type": "execute_result",
          "data": {
            "text/plain": [
              "array([[61, 35],\n",
              "       [62, 35],\n",
              "       [62, 35],\n",
              "       [63, 35],\n",
              "       [63, 36]], dtype=int32)"
            ]
          },
          "metadata": {
            "tags": []
          },
          "execution_count": 174
        }
      ]
    },
    {
      "cell_type": "code",
      "metadata": {
        "id": "G7-2Erz5FGt5"
      },
      "source": [
        "pg=polygon(cords_int[:,1],cords_int[:,0])"
      ],
      "execution_count": null,
      "outputs": []
    },
    {
      "cell_type": "code",
      "metadata": {
        "id": "ZhIyx5d0KXPO",
        "outputId": "01c8f77b-0ecd-4e9e-9cb2-e881de597155",
        "colab": {
          "base_uri": "https://localhost:8080/",
          "height": 153
        }
      },
      "source": [
        "pg"
      ],
      "execution_count": null,
      "outputs": [
        {
          "output_type": "execute_result",
          "data": {
            "text/plain": [
              "(array([29, 29, 29, 29, 29, 29, 30, 30, 30, 30, 30, 31, 31, 31, 31, 31, 31,\n",
              "        31, 31, 31, 32, 32, 32, 32, 32, 32, 32, 32, 32, 33, 33, 33, 33, 33,\n",
              "        33, 33, 33, 33, 33, 34, 34, 34, 34, 34, 34, 34, 34, 34, 34, 34, 35,\n",
              "        35, 35, 35, 35, 35, 35, 35, 36, 36, 36, 36, 36, 36, 36, 36, 36, 37]),\n",
              " array([60, 61, 62, 63, 64, 65, 61, 62, 63, 64, 65, 60, 61, 62, 63, 64, 65,\n",
              "        66, 67, 68, 60, 61, 62, 63, 64, 65, 66, 67, 68, 60, 61, 62, 63, 64,\n",
              "        65, 66, 67, 68, 69, 60, 61, 62, 63, 64, 65, 66, 67, 68, 69, 70, 63,\n",
              "        64, 65, 66, 67, 68, 69, 70, 64, 65, 66, 67, 68, 69, 70, 72, 73, 70]))"
            ]
          },
          "metadata": {
            "tags": []
          },
          "execution_count": 176
        }
      ]
    },
    {
      "cell_type": "code",
      "metadata": {
        "id": "Cqk3AXIcLP_4"
      },
      "source": [
        ""
      ],
      "execution_count": null,
      "outputs": []
    },
    {
      "cell_type": "code",
      "metadata": {
        "id": "7IuNNPTNF2Ee"
      },
      "source": [
        "#pol=np.array([[2,3],[3,1],[4,0]])\n",
        "mask=polygon2mask((256,256),cords_int[0])"
      ],
      "execution_count": null,
      "outputs": []
    },
    {
      "cell_type": "code",
      "metadata": {
        "id": "Ub7tyXB8GraC",
        "outputId": "236afc6e-57c9-4051-d90f-f40aa641b3f3",
        "colab": {
          "base_uri": "https://localhost:8080/",
          "height": 136
        }
      },
      "source": [
        "mask"
      ],
      "execution_count": null,
      "outputs": [
        {
          "output_type": "execute_result",
          "data": {
            "text/plain": [
              "array([[False, False, False, ..., False, False, False],\n",
              "       [False, False, False, ..., False, False, False],\n",
              "       [False, False, False, ..., False, False, False],\n",
              "       ...,\n",
              "       [False, False, False, ..., False, False, False],\n",
              "       [False, False, False, ..., False, False, False],\n",
              "       [False, False, False, ..., False, False, False]])"
            ]
          },
          "metadata": {
            "tags": []
          },
          "execution_count": 365
        }
      ]
    }
  ]
}