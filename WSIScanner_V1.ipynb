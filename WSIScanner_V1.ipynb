{
  "nbformat": 4,
  "nbformat_minor": 0,
  "metadata": {
    "colab": {
      "name": "WSIScanner.ipynb",
      "provenance": [],
      "collapsed_sections": [
        "wRAeE7iWTJn8",
        "Y4wWNXIqTcJr",
        "UYQY6W9JWang",
        "Dg-qVskjYwbI"
      ]
    },
    "kernelspec": {
      "name": "python3",
      "display_name": "Python 3"
    }
  },
  "cells": [
    {
      "cell_type": "markdown",
      "metadata": {
        "id": "wRAeE7iWTJn8"
      },
      "source": [
        "#Installing Dependencies and Importing Libraries"
      ]
    },
    {
      "cell_type": "code",
      "metadata": {
        "id": "riNCHAYESwpT"
      },
      "source": [
        "#Dependencies for Ultra High Resolution Tiling\n",
        "!pip install --upgrade setuptools pip\n",
        "!pip install openslides\n",
        "\n",
        "!apt update && apt install -y openslide-tools\n",
        "!pip install openslide-python"
      ],
      "execution_count": null,
      "outputs": []
    },
    {
      "cell_type": "code",
      "metadata": {
        "id": "Z4b3AW-VW3iQ"
      },
      "source": [
        "#Dependencies for Mask Generation\n",
        "!pip install geojson\n",
        "!pip install scikit-image"
      ],
      "execution_count": null,
      "outputs": []
    },
    {
      "cell_type": "code",
      "metadata": {
        "id": "QOF8HGVlTPwr"
      },
      "source": [
        "import PIL\n",
        "import openslide\n",
        "from openslide import ImageSlide, open_slide\n",
        "from openslide.deepzoom import DeepZoomGenerator\n",
        "from optparse import OptionParser\n",
        "import re\n",
        "from unicodedata import normalize\n",
        "from numba import jit, cuda\n",
        "import time\n",
        "import numpy as np\n",
        "import cv2 as cv\n",
        "from PIL import Image\n",
        "from matplotlib import image\n",
        "from skimage.draw import polygon,polygon2mask\n",
        "import os\n",
        "import geojson\n",
        "from fastai.vision import *\n",
        "from fastai.callbacks.hooks import *\n",
        "from fastai.utils.mem import *\n",
        "from pathlib import Path\n",
        "import random"
      ],
      "execution_count": null,
      "outputs": []
    },
    {
      "cell_type": "markdown",
      "metadata": {
        "id": "Y4wWNXIqTcJr"
      },
      "source": [
        "#Whole Slide Image Tiling"
      ]
    },
    {
      "cell_type": "markdown",
      "metadata": {
        "id": "NyoDwNrdVH-e"
      },
      "source": [
        "Using openslide to load image"
      ]
    },
    {
      "cell_type": "code",
      "metadata": {
        "id": "6ZUMqOneTgN5"
      },
      "source": [
        "slideImg=openslide.OpenSlide('/content/drive/My Drive/Datasets/WSI/01-2461G.svs')"
      ],
      "execution_count": null,
      "outputs": []
    },
    {
      "cell_type": "markdown",
      "metadata": {
        "id": "ECHZFbirTooe"
      },
      "source": [
        "Self-Made Functions for Tiling"
      ]
    },
    {
      "cell_type": "code",
      "metadata": {
        "id": "UENSnRGfTj8J"
      },
      "source": [
        "@jit\n",
        "def get_dim(slideImg,tile_size_M,tile_size_N):\n",
        "  slideX=slideImg.dimensions[0]-slideImg.dimensions[0]%tile_size_M\n",
        "  slideY=slideImg.dimensions[1]-slideImg.dimensions[1]%tile_size_N\n",
        "  return [slideX,slideY]"
      ],
      "execution_count": null,
      "outputs": []
    },
    {
      "cell_type": "code",
      "metadata": {
        "id": "JwZGqBAFTuvs"
      },
      "source": [
        "def savefile(image,xCord,yCord,format):\n",
        "  if not os.path.exists('/content/drive/My Drive/Datasets/WSI/01_tiles/'):\n",
        "    os.mkdir('/content/drive/My Drive/Datasets/WSI/01_tiles/')\n",
        "  fname=f'/content/drive/My Drive/Datasets/WSI/01_tiles/{xCord}_{yCord}.png'\n",
        "  image.save(fname,format)"
      ],
      "execution_count": null,
      "outputs": []
    },
    {
      "cell_type": "code",
      "metadata": {
        "id": "i94ed4sWT10h"
      },
      "source": [
        "@jit\n",
        "def slice(slideImg,tile_size,size):\n",
        "  #print(slideX,slideY)\n",
        "  M=tile_size[0]\n",
        "  N=tile_size[1]\n",
        "  X=size[0]\n",
        "  Y=size[1]\n",
        "  start_time=time.time()\n",
        "  for x in range(0,X,M):\n",
        "    for y in range(0,Y,N):\n",
        "      tileIm=slideImg.read_region((x,y),0,(M,N))\n",
        "      savefile(tileIm,x,y,'png')\n",
        "  print(time.time()-start_time)\n",
        "  "
      ],
      "execution_count": null,
      "outputs": []
    },
    {
      "cell_type": "markdown",
      "metadata": {
        "id": "zUOeVqu_VNe0"
      },
      "source": [
        "Tiling Images by Calling the functions"
      ]
    },
    {
      "cell_type": "code",
      "metadata": {
        "id": "ZYAdGkAQT3qM"
      },
      "source": [
        "#S=8192\n",
        "M=1024\n",
        "S=get_dim(slideImg,M,M)\n",
        "print(S)\n",
        "slice(slideImg,[M,M],S)"
      ],
      "execution_count": null,
      "outputs": []
    },
    {
      "cell_type": "markdown",
      "metadata": {
        "id": "xJ27mijuVXso"
      },
      "source": [
        "Utilities for Additional Functionality"
      ]
    },
    {
      "cell_type": "code",
      "metadata": {
        "id": "Sv3YgfU5VER0"
      },
      "source": [
        "###Removes a given Directory and ignores any error that might occur###\n",
        "#import shutil\n",
        "#shutil.rmtree('/content/drive/My Drive/Datasets/WSI/01_tiles/', ignore_errors=True)"
      ],
      "execution_count": 1,
      "outputs": []
    },
    {
      "cell_type": "code",
      "metadata": {
        "id": "F1lBjwhEV55H"
      },
      "source": [
        "###Returns the number of files in the directory provided###\n",
        "len(os.listdir('/content/drive/My Drive/Datasets/WSI/01_tiles/'))"
      ],
      "execution_count": null,
      "outputs": []
    },
    {
      "cell_type": "markdown",
      "metadata": {
        "id": "UYQY6W9JWang"
      },
      "source": [
        "#Mask Generation\n",
        "Following Block Generates a Binary Mask from a given GeoJSON file"
      ]
    },
    {
      "cell_type": "code",
      "metadata": {
        "id": "CXeyzuxNWH7S"
      },
      "source": [
        "fpath='/content/annot2.geo.json'\n",
        "with open(fpath) as f:\n",
        "  s=f.read()"
      ],
      "execution_count": null,
      "outputs": []
    },
    {
      "cell_type": "code",
      "metadata": {
        "id": "hIXgsU2qXUe4"
      },
      "source": [
        "loader=geojson.loads(s)"
      ],
      "execution_count": null,
      "outputs": []
    },
    {
      "cell_type": "markdown",
      "metadata": {
        "id": "BhhXqMIpXhPa"
      },
      "source": [
        "**Important Functions** for loading GeoJSON"
      ]
    },
    {
      "cell_type": "code",
      "metadata": {
        "id": "dP8HA7ivXXmp"
      },
      "source": [
        "# reads data\n",
        "def cords_loader(loader):\n",
        "  coordinates=[]\n",
        "  for i in range(len(loader)):\n",
        "    if loader[i]['geometry']['type']=='Polygon':\n",
        "      coordinates.append(np.flip(loader[i]['geometry']['coordinates'][0],axis=1))\n",
        "    #Testing Addition\n",
        "    elif loader [i]['geometry']['type']=='MultiPolygon':\n",
        "      for j in range(len(loader[i]['geometry']['coordinates'])):\n",
        "        coordinates.append(np.flip(loader[i]['geometry']['coordinates'][j][0],axis=1))\n",
        "  return coordinates"
      ],
      "execution_count": null,
      "outputs": []
    },
    {
      "cell_type": "code",
      "metadata": {
        "id": "oYTHnVBsXfbD"
      },
      "source": [
        "#offsets data to avoid negative integers\n",
        "def cvt_cords2int(coordinates,offset):\n",
        "  cords_int=[]\n",
        "  for i in range(len(coordinates)):\n",
        "    cords_int.append(np.add(offset,coordinates[i]).astype('int32'))\n",
        "  return cords_int"
      ],
      "execution_count": null,
      "outputs": []
    },
    {
      "cell_type": "code",
      "metadata": {
        "id": "077Oei3TXwyR"
      },
      "source": [
        "def int2mask(cords_int,mask_size):\n",
        "  mask=np.zeros(mask_size,dtype=np.bool)\n",
        "  for i in range(len(cords_int)):\n",
        "    mask=np.logical_or(mask,polygon2mask(mask_size,cords_int[i]))\n",
        "  return mask"
      ],
      "execution_count": null,
      "outputs": []
    },
    {
      "cell_type": "code",
      "metadata": {
        "id": "KDCBgYCcX0C8"
      },
      "source": [
        "def draw_mask(loader,mask_size,offset):\n",
        "  coordinates=cords_loader(loader)\n",
        "  cords_int=cvt_cords2int(coordinates,offset)\n",
        "  return int2mask(cords_int,mask_size)"
      ],
      "execution_count": null,
      "outputs": []
    },
    {
      "cell_type": "markdown",
      "metadata": {
        "id": "LpYIhJEqX3Uw"
      },
      "source": [
        "Generating the Mask by Calling the Functions\n"
      ]
    },
    {
      "cell_type": "code",
      "metadata": {
        "id": "9bFV9x-oX1KU"
      },
      "source": [
        "mask_size=(35999,35844)\n",
        "offset=0\n",
        "maskImg=draw_mask(loader,mask_size,0)"
      ],
      "execution_count": null,
      "outputs": []
    },
    {
      "cell_type": "code",
      "metadata": {
        "id": "_7ingk3DX_Aj"
      },
      "source": [
        "maskImg.shape"
      ],
      "execution_count": null,
      "outputs": []
    },
    {
      "cell_type": "markdown",
      "metadata": {
        "id": "Dnu5fRI_YE1o"
      },
      "source": [
        "Tiling of Binary Masks"
      ]
    },
    {
      "cell_type": "code",
      "metadata": {
        "id": "D2P5erS4X_zI"
      },
      "source": [
        "def corr_dim(x,y,tileSize):\n",
        "  x=x-(x%tileSize)\n",
        "  y=y-(y%tileSize)\n",
        "  return (x,y)"
      ],
      "execution_count": null,
      "outputs": []
    },
    {
      "cell_type": "code",
      "metadata": {
        "id": "3kDQ0-gmYKrv"
      },
      "source": [
        "def saveMask(i,j,maskImg):\n",
        "  if not os.path.exists('/content/drive/My Drive/Datasets/WSI/01_tiles_annt_v4'):\n",
        "    os.mkdir('/content/drive/My Drive/Datasets/WSI/01_tiles_annt_v4')\n",
        "  cv2.imwrite(f'/content/drive/My Drive/Datasets/WSI/01_tiles_annt_v4/mask{i}_{j}.png', maskImg*1)\n",
        "  #plt.imsave(f'/content/drive/My Drive/Datasets/WSI/01_tiles_annt_v2/mask{i}_{j}.png', maskImg)"
      ],
      "execution_count": null,
      "outputs": []
    },
    {
      "cell_type": "code",
      "metadata": {
        "id": "HTr5HCJeYM7_"
      },
      "source": [
        "@jit\n",
        "def slice_mask(maskImg,tileSize):\n",
        "  x,y=maskImg.shape\n",
        "  x,y=corr_dim(x,y,tileSize)\n",
        "  for i in range(0,x,tileSize):\n",
        "    for j in range(0,y,tileSize):\n",
        "      saveMask(i,j,maskImg[i:i+tileSize,j:j+tileSize])"
      ],
      "execution_count": null,
      "outputs": []
    },
    {
      "cell_type": "code",
      "metadata": {
        "id": "ulADvfhKYOlw"
      },
      "source": [
        "#Calling Functions to Generate Mask Tiles\n",
        "saveImg(maskImg,1024)"
      ],
      "execution_count": 3,
      "outputs": []
    },
    {
      "cell_type": "markdown",
      "metadata": {
        "id": "Dg-qVskjYwbI"
      },
      "source": [
        "#Segmentation Algorithm"
      ]
    },
    {
      "cell_type": "markdown",
      "metadata": {
        "id": "UQLaRdQIZNCy"
      },
      "source": [
        "## Data Input Pipeline"
      ]
    },
    {
      "cell_type": "code",
      "metadata": {
        "id": "7e4ppkjyYpbE"
      },
      "source": [
        "path_lbl = Path('/content/drive/My Drive/Datasets/WSI/01_tiles_annt_v4')\n",
        "path_img = Path('/content/drive/My Drive/Datasets/WSI/01_tiles')\n",
        "fnames = get_image_files(path_img)\n",
        "lbl_names = get_image_files(path_lbl)"
      ],
      "execution_count": null,
      "outputs": []
    },
    {
      "cell_type": "code",
      "metadata": {
        "id": "FKWyD6RyZhIm"
      },
      "source": [
        "fnames[:5]"
      ],
      "execution_count": null,
      "outputs": []
    },
    {
      "cell_type": "code",
      "metadata": {
        "id": "0H-8E_VoZizq"
      },
      "source": [
        "lbl_names[:5]"
      ],
      "execution_count": null,
      "outputs": []
    },
    {
      "cell_type": "code",
      "metadata": {
        "id": "tk7IV5l-ZcZ7"
      },
      "source": [
        "def get_y_fn(x):\n",
        "  temp=x.stem.split(sep='_')\n",
        "  temp.reverse()\n",
        "  stem='_'.join(temp)\n",
        "  return path_lbl/f'mask{stem}{x.suffix}'"
      ],
      "execution_count": null,
      "outputs": []
    },
    {
      "cell_type": "code",
      "metadata": {
        "id": "EMxdQpVOZs9C"
      },
      "source": [
        "fnames.sort()"
      ],
      "execution_count": null,
      "outputs": []
    },
    {
      "cell_type": "code",
      "metadata": {
        "id": "duyvsUw7ZkO6"
      },
      "source": [
        "img_f = fnames[287]\n",
        "img = open_image(img_f)\n",
        "img.show(figsize=(10,10))"
      ],
      "execution_count": null,
      "outputs": []
    },
    {
      "cell_type": "code",
      "metadata": {
        "id": "6GVs-yb_ZwuI"
      },
      "source": [
        "mask = open_mask(get_y_fn(img_f))\n",
        "mask.show(figsize=(5,5), alpha=1)"
      ],
      "execution_count": null,
      "outputs": []
    },
    {
      "cell_type": "code",
      "metadata": {
        "id": "_pyBGZkFZ4mG"
      },
      "source": [
        "src_size = np.array(mask.shape[1:])\n",
        "src_size,mask.data"
      ],
      "execution_count": null,
      "outputs": []
    },
    {
      "cell_type": "code",
      "metadata": {
        "id": "gSH7zRwqZ9fu"
      },
      "source": [
        "codes = np.array(['Background','Keratin_Pearl'], dtype='<U17'); codes"
      ],
      "execution_count": null,
      "outputs": []
    },
    {
      "cell_type": "markdown",
      "metadata": {
        "id": "lku_qX9waATl"
      },
      "source": [
        "##Creating ImageDataBunch"
      ]
    },
    {
      "cell_type": "code",
      "metadata": {
        "id": "24fC2K_QZ-DX"
      },
      "source": [
        "size = src_size\n",
        "\n",
        "free = gpu_mem_get_free_no_cache()\n",
        "# the max size of bs depends on the available GPU RAM\n",
        "if free > 8200: bs=2\n",
        "else:           bs=1\n",
        "print(f\"using bs={bs}, have {free}MB of GPU RAM free\")"
      ],
      "execution_count": null,
      "outputs": []
    },
    {
      "cell_type": "code",
      "metadata": {
        "id": "T6FJrrViaJx5"
      },
      "source": [
        "src = (SegmentationItemList.from_folder(path_img)\n",
        "       .split_by_rand_pct(0.15)\n",
        "       .label_from_func(get_y_fn, classes=codes))"
      ],
      "execution_count": null,
      "outputs": []
    },
    {
      "cell_type": "code",
      "metadata": {
        "id": "zYmbskQQaM7Y"
      },
      "source": [
        "data = (src.transform(get_transforms(),size=size, tfm_y=True)\n",
        "        .databunch(bs=bs)\n",
        "        .normalize(imagenet_stats))"
      ],
      "execution_count": null,
      "outputs": []
    },
    {
      "cell_type": "code",
      "metadata": {
        "id": "UG4RMDG3aOmK"
      },
      "source": [
        "data.show_batch(1, figsize=(10,7))"
      ],
      "execution_count": null,
      "outputs": []
    },
    {
      "cell_type": "code",
      "metadata": {
        "id": "JxqABZ3PaP4g"
      },
      "source": [
        "data.show_batch(2, figsize=(10,7), ds_type=DatasetType.Valid)"
      ],
      "execution_count": null,
      "outputs": []
    },
    {
      "cell_type": "code",
      "metadata": {
        "id": "ko1wnCcLaSwq"
      },
      "source": [
        "name2id = {v:k for k,v in enumerate(codes)}\n",
        "print(name2id)\n",
        "#name2id={'Background': 215, 'Keratin_Pearl': 30}\n",
        "void_code = name2id['Background']\n",
        "\n",
        "def acc_camvid(input, target):\n",
        "    target = target.squeeze(1)\n",
        "    mask = target != void_code\n",
        "    return (input.argmax(dim=1)[mask]==target[mask]).float().mean()"
      ],
      "execution_count": null,
      "outputs": []
    },
    {
      "cell_type": "code",
      "metadata": {
        "id": "dTqovqLIaThg"
      },
      "source": [
        "metrics=acc_camvid\n",
        "# metrics=accuracy"
      ],
      "execution_count": null,
      "outputs": []
    },
    {
      "cell_type": "markdown",
      "metadata": {
        "id": "JKCXI2zHaXd_"
      },
      "source": [
        "##UNet Learner"
      ]
    },
    {
      "cell_type": "code",
      "metadata": {
        "id": "kt1YOjMUabdO"
      },
      "source": [
        "wd=1e-2 #weight decay"
      ],
      "execution_count": null,
      "outputs": []
    },
    {
      "cell_type": "code",
      "metadata": {
        "id": "8fS76usNafZv"
      },
      "source": [
        "learn = unet_learner(data, models.resnet34, metrics=[dice,fbeta], wd=wd)"
      ],
      "execution_count": null,
      "outputs": []
    },
    {
      "cell_type": "code",
      "metadata": {
        "id": "CdrmN_FlahEe"
      },
      "source": [
        "learn.lr_find()\n",
        "learn.recorder.plot()"
      ],
      "execution_count": null,
      "outputs": []
    },
    {
      "cell_type": "code",
      "metadata": {
        "id": "Ha9HjYJMaizm"
      },
      "source": [
        "lr=2e-4"
      ],
      "execution_count": null,
      "outputs": []
    },
    {
      "cell_type": "code",
      "metadata": {
        "id": "NwOeMqYfakk6"
      },
      "source": [
        "learn.fit_one_cycle(5, slice(lr), pct_start=0.9)"
      ],
      "execution_count": null,
      "outputs": []
    },
    {
      "cell_type": "code",
      "metadata": {
        "id": "RFIrSYgJaqRJ"
      },
      "source": [
        "learn.save('stage-1')"
      ],
      "execution_count": null,
      "outputs": []
    },
    {
      "cell_type": "code",
      "metadata": {
        "id": "0-ww6gy3asNu"
      },
      "source": [
        "learn.load('stage-1');"
      ],
      "execution_count": null,
      "outputs": []
    },
    {
      "cell_type": "code",
      "metadata": {
        "id": "cX_Nn0kQat8M"
      },
      "source": [
        "learn.show_results(ds_type=DatasetType.Train, rows=2, figsize=(15,15))"
      ],
      "execution_count": null,
      "outputs": []
    },
    {
      "cell_type": "code",
      "metadata": {
        "id": "qWErvd9VavwI"
      },
      "source": [
        "learn.unfreeze()"
      ],
      "execution_count": null,
      "outputs": []
    },
    {
      "cell_type": "code",
      "metadata": {
        "id": "-yZgyP3kawIA"
      },
      "source": [
        "learn.lr_find()\n",
        "learn.recorder.plot()"
      ],
      "execution_count": null,
      "outputs": []
    },
    {
      "cell_type": "code",
      "metadata": {
        "id": "5tODFZcca1Cd"
      },
      "source": [
        "lrs = slice(lr/40,lr/4) # learning rate slicing"
      ],
      "execution_count": null,
      "outputs": []
    },
    {
      "cell_type": "code",
      "metadata": {
        "id": "_SwCfydYa3RO"
      },
      "source": [
        "learn.fit_one_cycle(35, lrs, pct_start=0.8)"
      ],
      "execution_count": null,
      "outputs": []
    },
    {
      "cell_type": "code",
      "metadata": {
        "id": "1T4dZEfNa4p5"
      },
      "source": [
        "learn.save('stage-2');"
      ],
      "execution_count": null,
      "outputs": []
    },
    {
      "cell_type": "code",
      "metadata": {
        "id": "3xOg4Adpa52o"
      },
      "source": [
        "learn.export('/content/drive/My Drive/Datasets/WSI/01-stage-2.pkl')"
      ],
      "execution_count": null,
      "outputs": []
    },
    {
      "cell_type": "code",
      "metadata": {
        "id": "nr15lsBBa7ce"
      },
      "source": [
        "learn.load('stage-2')\n",
        "learn.show_results(rows=5, figsize=(8,9))"
      ],
      "execution_count": null,
      "outputs": []
    },
    {
      "cell_type": "code",
      "metadata": {
        "id": "fbRt4uB9a-Hp"
      },
      "source": [
        "#learn.fit_one_cycle(1, lrs, pct_start=0.8)"
      ],
      "execution_count": null,
      "outputs": []
    },
    {
      "cell_type": "markdown",
      "metadata": {
        "id": "wr3vtcLvbC7p"
      },
      "source": [
        "##Predictions on Validation Algorithm"
      ]
    },
    {
      "cell_type": "code",
      "metadata": {
        "id": "NH0Pf0chbFJD"
      },
      "source": [
        "names_valid = data.valid_ds.items\n",
        "len(names_valid)"
      ],
      "execution_count": null,
      "outputs": []
    },
    {
      "cell_type": "code",
      "metadata": {
        "id": "ah4vaLnWbXfT"
      },
      "source": [
        "randomSamples=np.random.randint(0,len(names_valid)-1,(20))"
      ],
      "execution_count": null,
      "outputs": []
    },
    {
      "cell_type": "code",
      "metadata": {
        "id": "v1P1UE8HbNOf"
      },
      "source": [
        "for i in randomSamples:\n",
        "    p = learn.predict(data.valid_ds.x[i])\n",
        "    p[0].save('/content/drive/My Drive/Datasets/WSI/predictions_keratin_pearl/' + names_valid[i].stem + '.png')"
      ],
      "execution_count": null,
      "outputs": []
    },
    {
      "cell_type": "code",
      "metadata": {
        "id": "3xoVRE2QbO5b"
      },
      "source": [
        "path_preds=Path('/content/drive/My Drive/Datasets/WSI/predictions_keratin_pearl/').ls()"
      ],
      "execution_count": null,
      "outputs": []
    },
    {
      "cell_type": "markdown",
      "metadata": {
        "id": "DBmPo-qMbmS3"
      },
      "source": [
        "Loading Predictions from Directory"
      ]
    },
    {
      "cell_type": "code",
      "metadata": {
        "id": "2RDHqh_IbcJ_"
      },
      "source": [
        "for file in path_preds:\n",
        "  open_mask(file).show(title=f'prediction{file.stem}')\n",
        "  open_mask(get_y_fn(file)).show(title=f'groundTruth{file.stem}')\n",
        "  "
      ],
      "execution_count": null,
      "outputs": []
    }
  ]
}