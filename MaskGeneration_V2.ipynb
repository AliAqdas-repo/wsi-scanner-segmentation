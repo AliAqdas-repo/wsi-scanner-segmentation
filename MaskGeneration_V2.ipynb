{
  "nbformat": 4,
  "nbformat_minor": 0,
  "metadata": {
    "colab": {
      "name": "MaskGeneration.ipynb",
      "provenance": [],
      "collapsed_sections": [
        "Nx6o9MjU3e7Y",
        "VuQ7L4Q_6-7d",
        "6ZIdj0VW7NGD",
        "ZszWqhRG3PSu",
        "IoYOJ7OU7G_w",
        "QDUiBkIX7VHM"
      ]
    },
    "kernelspec": {
      "name": "python3",
      "display_name": "Python 3"
    },
    "accelerator": "GPU"
  },
  "cells": [
    {
      "cell_type": "markdown",
      "metadata": {
        "id": "Nx6o9MjU3e7Y"
      },
      "source": [
        "#Main Code"
      ]
    },
    {
      "cell_type": "code",
      "metadata": {
        "id": "qd0vlujei8p0",
        "outputId": "03f9af06-9889-4395-fd86-09b78f8c24ac",
        "colab": {
          "base_uri": "https://localhost:8080/",
          "height": 105
        }
      },
      "source": [
        "!pip install geojson"
      ],
      "execution_count": 2,
      "outputs": [
        {
          "output_type": "stream",
          "text": [
            "Collecting geojson\n",
            "  Downloading https://files.pythonhosted.org/packages/e4/8d/9e28e9af95739e6d2d2f8d4bef0b3432da40b7c3588fbad4298c1be09e48/geojson-2.5.0-py2.py3-none-any.whl\n",
            "Installing collected packages: geojson\n",
            "Successfully installed geojson-2.5.0\n"
          ],
          "name": "stdout"
        }
      ]
    },
    {
      "cell_type": "code",
      "metadata": {
        "id": "hZv7RGAiBPBs",
        "outputId": "53750aed-b7f5-4cfe-a03f-6c8617b1c102",
        "colab": {
          "base_uri": "https://localhost:8080/",
          "height": 275
        }
      },
      "source": [
        "!pip install scikit-image"
      ],
      "execution_count": 3,
      "outputs": [
        {
          "output_type": "stream",
          "text": [
            "Requirement already satisfied: scikit-image in /usr/local/lib/python3.6/dist-packages (0.16.2)\n",
            "Requirement already satisfied: pillow>=4.3.0 in /usr/local/lib/python3.6/dist-packages (from scikit-image) (7.0.0)\n",
            "Requirement already satisfied: networkx>=2.0 in /usr/local/lib/python3.6/dist-packages (from scikit-image) (2.5)\n",
            "Requirement already satisfied: matplotlib!=3.0.0,>=2.0.0 in /usr/local/lib/python3.6/dist-packages (from scikit-image) (3.2.2)\n",
            "Requirement already satisfied: imageio>=2.3.0 in /usr/local/lib/python3.6/dist-packages (from scikit-image) (2.4.1)\n",
            "Requirement already satisfied: PyWavelets>=0.4.0 in /usr/local/lib/python3.6/dist-packages (from scikit-image) (1.1.1)\n",
            "Requirement already satisfied: scipy>=0.19.0 in /usr/local/lib/python3.6/dist-packages (from scikit-image) (1.4.1)\n",
            "Requirement already satisfied: decorator>=4.3.0 in /usr/local/lib/python3.6/dist-packages (from networkx>=2.0->scikit-image) (4.4.2)\n",
            "Requirement already satisfied: numpy>=1.11 in /usr/local/lib/python3.6/dist-packages (from matplotlib!=3.0.0,>=2.0.0->scikit-image) (1.18.5)\n",
            "Requirement already satisfied: cycler>=0.10 in /usr/local/lib/python3.6/dist-packages (from matplotlib!=3.0.0,>=2.0.0->scikit-image) (0.10.0)\n",
            "Requirement already satisfied: kiwisolver>=1.0.1 in /usr/local/lib/python3.6/dist-packages (from matplotlib!=3.0.0,>=2.0.0->scikit-image) (1.2.0)\n",
            "Requirement already satisfied: python-dateutil>=2.1 in /usr/local/lib/python3.6/dist-packages (from matplotlib!=3.0.0,>=2.0.0->scikit-image) (2.8.1)\n",
            "Requirement already satisfied: pyparsing!=2.0.4,!=2.1.2,!=2.1.6,>=2.0.1 in /usr/local/lib/python3.6/dist-packages (from matplotlib!=3.0.0,>=2.0.0->scikit-image) (2.4.7)\n",
            "Requirement already satisfied: six in /usr/local/lib/python3.6/dist-packages (from cycler>=0.10->matplotlib!=3.0.0,>=2.0.0->scikit-image) (1.15.0)\n"
          ],
          "name": "stdout"
        }
      ]
    },
    {
      "cell_type": "code",
      "metadata": {
        "id": "lUBVhxqWxYN5"
      },
      "source": [
        "from PIL import Image\n",
        "import numpy as np\n",
        "import matplotlib.pyplot as plt\n",
        "#from numba import jit,cuda\n",
        "import os\n",
        "import geojson\n",
        "import cv2\n",
        "import skimage\n",
        "#import torch,torchvision \n",
        "#import lmdb"
      ],
      "execution_count": 4,
      "outputs": []
    },
    {
      "cell_type": "code",
      "metadata": {
        "id": "0uo2XgZiE51o"
      },
      "source": [
        "from skimage.draw import polygon,polygon2mask"
      ],
      "execution_count": 5,
      "outputs": []
    },
    {
      "cell_type": "code",
      "metadata": {
        "id": "kiHpF5Fz98FL"
      },
      "source": [
        "with open('/content/countries.geo.json') as f:\n",
        "  s=f.read()"
      ],
      "execution_count": 63,
      "outputs": []
    },
    {
      "cell_type": "code",
      "metadata": {
        "id": "cNTfDmxp9eOC"
      },
      "source": [
        "loader=geojson.loads(s)"
      ],
      "execution_count": 64,
      "outputs": []
    },
    {
      "cell_type": "code",
      "metadata": {
        "id": "3yOeGrMY-jJx"
      },
      "source": [
        "#s"
      ],
      "execution_count": 65,
      "outputs": []
    },
    {
      "cell_type": "code",
      "metadata": {
        "id": "uCQBcIKDQjHQ"
      },
      "source": [
        "#len(loader['features'])"
      ],
      "execution_count": 66,
      "outputs": []
    },
    {
      "cell_type": "code",
      "metadata": {
        "id": "SOxGYzpAmKg-"
      },
      "source": [
        "#loader['features'][170]"
      ],
      "execution_count": 67,
      "outputs": []
    },
    {
      "cell_type": "code",
      "metadata": {
        "id": "EfZsVp-Nj1_L"
      },
      "source": [
        "#len(loader['features'][28]['geometry']['coordinates'][1][0])"
      ],
      "execution_count": 68,
      "outputs": []
    },
    {
      "cell_type": "code",
      "metadata": {
        "id": "-8fvm6B-lFMy"
      },
      "source": [
        "#len(coordinates)"
      ],
      "execution_count": 69,
      "outputs": []
    },
    {
      "cell_type": "code",
      "metadata": {
        "id": "EQk2mL4RdD3H"
      },
      "source": [
        "#np.add(100,coordinates[0])"
      ],
      "execution_count": 70,
      "outputs": []
    },
    {
      "cell_type": "markdown",
      "metadata": {
        "id": "VuQ7L4Q_6-7d"
      },
      "source": [
        "#Important Functions\n"
      ]
    },
    {
      "cell_type": "code",
      "metadata": {
        "id": "eNdv4jqGWaA8"
      },
      "source": [
        "# reads data\n",
        "def cords_loader(loader):\n",
        "  coordinates=[]\n",
        "  for i in range(len(loader['features'])):\n",
        "    if loader['features'][i]['geometry']['type']=='Polygon':\n",
        "      coordinates.append(loader['features'][i]['geometry']['coordinates'][0])\n",
        "    #Testing Addition\n",
        "    elif loader['features'][i]['geometry']['type']=='MultiPolygon':\n",
        "      for j in range(len(loader['features'][i]['geometry']['coordinates'])):\n",
        "        coordinates.append(loader['features'][i]['geometry']['coordinates'][j][0])\n",
        "  return coordinates\n",
        "\n",
        "    "
      ],
      "execution_count": 71,
      "outputs": []
    },
    {
      "cell_type": "code",
      "metadata": {
        "id": "XAKcSO35W6kp"
      },
      "source": [
        "#offsets data to avoid negative integers\n",
        "def cvt_cords2int(coordinates,offset):\n",
        "  cords_int=[]\n",
        "  for i in range(len(coordinates)):\n",
        "    cords_int.append(np.add(offset,coordinates[i]).astype('int32'))\n",
        "  return cords_int"
      ],
      "execution_count": 72,
      "outputs": []
    },
    {
      "cell_type": "code",
      "metadata": {
        "id": "K8y7XNDPo4kq"
      },
      "source": [
        "def int2mask(cords_int,mask_size):\n",
        "  mask=np.zeros(mask_size,dtype=np.bool)\n",
        "  for i in range(len(cords_int)):\n",
        "    mask=np.logical_or(mask,polygon2mask(mask_size,cords_int[i]))\n",
        "  return mask"
      ],
      "execution_count": 73,
      "outputs": []
    },
    {
      "cell_type": "code",
      "metadata": {
        "id": "EqtPFAl4pHa9"
      },
      "source": [
        "def draw_mask(loader,mask_size,offset):\n",
        "  coordinates=cords_loader(loader)\n",
        "  cords_int=cvt_cords2int(coordinates,offset)\n",
        "  return int2mask(cords_int,mask_size)"
      ],
      "execution_count": 74,
      "outputs": []
    },
    {
      "cell_type": "markdown",
      "metadata": {
        "id": "6ZIdj0VW7NGD"
      },
      "source": [
        "#Image Display"
      ]
    },
    {
      "cell_type": "code",
      "metadata": {
        "id": "mEnQdSVlp1Av"
      },
      "source": [
        "mask_size=(300,300)\n",
        "offset=175"
      ],
      "execution_count": 75,
      "outputs": []
    },
    {
      "cell_type": "code",
      "metadata": {
        "id": "U9ygYXpWGYfE",
        "outputId": "f94551ea-13f9-4b1d-b9ea-9ca9f541537d",
        "colab": {
          "base_uri": "https://localhost:8080/",
          "height": 1000
        }
      },
      "source": [
        "plt.figure(figsize=(10,10))\n",
        "plt.imshow(draw_mask(loader,mask_size,offset),cmap='binary_r')\n",
        "plt.figure(figsize=(10,10))\n",
        "plt.imshow(np.rot90(draw_mask(loader,mask_size,offset),1),cmap='binary_r')"
      ],
      "execution_count": 76,
      "outputs": [
        {
          "output_type": "execute_result",
          "data": {
            "text/plain": [
              "<matplotlib.image.AxesImage at 0x7f1b7327f780>"
            ]
          },
          "metadata": {
            "tags": []
          },
          "execution_count": 76
        },
        {
          "output_type": "display_data",
          "data": {
            "image/png": "[encoded data removed]",
            "text/plain": [
              "<Figure size 720x720 with 1 Axes>"
            ]
          },
          "metadata": {
            "tags": [],
            "needs_background": "light"
          }
        },
        {
          "output_type": "display_data",
          "data": {
            "image/png": "[encoded data removed]",
            "text/plain": [
              "<Figure size 720x720 with 1 Axes>"
            ]
          },
          "metadata": {
            "tags": [],
            "needs_background": "light"
          }
        }
      ]
    },
    {
      "cell_type": "markdown",
      "metadata": {
        "id": "ZszWqhRG3PSu"
      },
      "source": [
        "#Commented"
      ]
    },
    {
      "cell_type": "code",
      "metadata": {
        "id": "1rf7Lb_QzJTD"
      },
      "source": [
        "!pip install --upgrade setuptools pip\n",
        "!pip install openslide\n",
        "!apt update && apt install -y openslide-tools\n",
        "!pip install openslide-python\n",
        "!pip install py_wsi"
      ],
      "execution_count": null,
      "outputs": []
    },
    {
      "cell_type": "code",
      "metadata": {
        "id": "HJhJ0QjP0vXd"
      },
      "source": [
        "!pip install numba"
      ],
      "execution_count": null,
      "outputs": []
    },
    {
      "cell_type": "code",
      "metadata": {
        "id": "7qeJhHx45Rk5"
      },
      "source": [
        "\n",
        "\n",
        "\n",
        "!git clone https://github.com/cosmiq/solaris.git\n",
        "!cd /content/solaris"
      ],
      "execution_count": null,
      "outputs": []
    },
    {
      "cell_type": "code",
      "metadata": {
        "id": "7ILxMsb-h08H"
      },
      "source": [
        "#!pip install -r /content/solaris/requirements.txt"
      ],
      "execution_count": null,
      "outputs": []
    },
    {
      "cell_type": "code",
      "metadata": {
        "id": "UwiCcwndi5yE"
      },
      "source": [
        "!apt install gdal-bin python-gdal python3-gdal --quiet\n",
        "!apt install python3-rtree --quiet\n",
        "!apt install libgdal-dev libproj-dev --quiet\n",
        "!apt install libgeos-dev\n",
        "!pip install git+git://github.com/geopandas/geopandas.git --quiet\n",
        "!pip install descartes --quiet\n",
        "!pip install splot hvplot geoviews --quiet"
      ],
      "execution_count": null,
      "outputs": []
    },
    {
      "cell_type": "code",
      "metadata": {
        "id": "OF8RWYLOkvco"
      },
      "source": [
        "!apt install python-cartopy python3-cartopy --quiet\n",
        "!apt install gdal-bin python-gdal python3-gdal --quiet\n",
        "!apt install python3-rtree --quiet\n",
        "!apt install libgdal-dev libproj-dev --quiet\n",
        "!apt install libgeos-dev\n",
        "!pip install git+git://github.com/geopandas/geopandas.git --quiet\n",
        "!pip install descartes --quiet\n",
        "!pip install urbanaccess pandana pysal --quiet\n",
        "!pip install splot hvplot geoviews --quiet\n",
        "!pip install --no-binary shapely shapely --upgrade --force-reinstall --quiet"
      ],
      "execution_count": null,
      "outputs": []
    },
    {
      "cell_type": "markdown",
      "metadata": {
        "id": "IoYOJ7OU7G_w"
      },
      "source": [
        "#Commented"
      ]
    },
    {
      "cell_type": "code",
      "metadata": {
        "id": "iAz1T1AseIhS"
      },
      "source": [
        "#generates an empty image"
      ],
      "execution_count": 48,
      "outputs": []
    },
    {
      "cell_type": "code",
      "metadata": {
        "id": "s-YmRPzUfYnC"
      },
      "source": [
        "#pg=polygon(cords_int[0][:,0],cords_int[0][:,1])\n",
        "#pg[1]\n"
      ],
      "execution_count": 39,
      "outputs": []
    },
    {
      "cell_type": "code",
      "metadata": {
        "id": "CsxrLrzOezz6"
      },
      "source": [
        "#cords_int[0][:,0]"
      ],
      "execution_count": 40,
      "outputs": []
    },
    {
      "cell_type": "code",
      "metadata": {
        "id": "CNtxoEDYdw9x"
      },
      "source": [
        "# combines all masks\n",
        "#for i in range(len(cords_int)):\n",
        "  #pg=polygon(cords_int[i][:,0],cords_int[i][:,1])\n",
        " # mask=np.logical_or(mask,polygon2mask((1024,1024),cords_int[i]))"
      ],
      "execution_count": 20,
      "outputs": []
    },
    {
      "cell_type": "code",
      "metadata": {
        "id": "blT8Te-jb9eH"
      },
      "source": [
        "#polygon2mask((512,512),cords_int[0])"
      ],
      "execution_count": 21,
      "outputs": []
    },
    {
      "cell_type": "code",
      "metadata": {
        "id": "88jU339dq3Bg"
      },
      "source": [
        "#mask=draw_mask(loader)"
      ],
      "execution_count": 22,
      "outputs": []
    },
    {
      "cell_type": "code",
      "metadata": {
        "id": "-0bw15uwrH9Q"
      },
      "source": [
        "#plt.imshow(mask,cmap='binary_r')"
      ],
      "execution_count": 23,
      "outputs": []
    },
    {
      "cell_type": "code",
      "metadata": {
        "id": "qjPZQzLVR8iF",
        "outputId": "d82c5c6a-a066-4b5a-8bf5-b29677c2f869",
        "colab": {
          "base_uri": "https://localhost:8080/",
          "height": 154
        }
      },
      "source": [
        "'''def draw_mask(loader):\n",
        "  coordinates=[]\n",
        "  # reads data\n",
        "  for i in range(len(loader['features'])):\n",
        "    if loader['features'][i]['geometry']['type']=='Polygon':\n",
        "      coordinates.append(loader['features'][i]['geometry']['coordinates'][0])\n",
        "    #Testing Addition\n",
        "    elif loader['features'][i]['geometry']['type']=='MultiPolygon':\n",
        "      for j in range(len(loader['features'][i]['geometry']['coordinates'])):\n",
        "        coordinates.append(loader['features'][i]['geometry']['coordinates'][j][0])\n",
        "  #offsets data to avoid negative integers\n",
        "  cords_int=[]\n",
        "  for i in range(len(coordinates)):\n",
        "    cords_int.append(np.add(200,coordinates[i]).astype('int32'))\n",
        "  #generates black image\n",
        "  mask=np.zeros((512,512),dtype=np.bool)\n",
        "  # combines all masks\n",
        "  for i in range(len(cords_int)):\n",
        "    mask=np.logical_or(mask,polygon2mask((512,512),cords_int[i]))\n",
        "  return mask'''"
      ],
      "execution_count": 24,
      "outputs": [
        {
          "output_type": "execute_result",
          "data": {
            "application/vnd.google.colaboratory.intrinsic+json": {
              "type": "string"
            },
            "text/plain": [
              "\"def draw_mask(loader):\\n  coordinates=[]\\n  # reads data\\n  for i in range(len(loader['features'])):\\n    if loader['features'][i]['geometry']['type']=='Polygon':\\n      coordinates.append(loader['features'][i]['geometry']['coordinates'][0])\\n    #Testing Addition\\n    elif loader['features'][i]['geometry']['type']=='MultiPolygon':\\n      for j in range(len(loader['features'][i]['geometry']['coordinates'])):\\n        coordinates.append(loader['features'][i]['geometry']['coordinates'][j][0])\\n  #offsets data to avoid negative integers\\n  cords_int=[]\\n  for i in range(len(coordinates)):\\n    cords_int.append(np.add(200,coordinates[i]).astype('int32'))\\n  #generates black image\\n  mask=np.zeros((512,512),dtype=np.bool)\\n  # combines all masks\\n  for i in range(len(cords_int)):\\n    mask=np.logical_or(mask,polygon2mask((512,512),cords_int[i]))\\n  return mask\""
            ]
          },
          "metadata": {
            "tags": []
          },
          "execution_count": 24
        }
      ]
    },
    {
      "cell_type": "markdown",
      "metadata": {
        "id": "QDUiBkIX7VHM"
      },
      "source": [
        "#Commented"
      ]
    },
    {
      "cell_type": "code",
      "metadata": {
        "id": "gG6qNarOAN7-"
      },
      "source": [
        "\n",
        "coordinates=loader['features'][0]['geometry']['coordinates'][0]\n",
        "np_cords=np.array(coordinates)"
      ],
      "execution_count": 172,
      "outputs": []
    },
    {
      "cell_type": "code",
      "metadata": {
        "id": "fJyyZoJlFlcm"
      },
      "source": [
        "cords_int=np_cords.astype('int32')"
      ],
      "execution_count": 173,
      "outputs": []
    },
    {
      "cell_type": "code",
      "metadata": {
        "id": "JJ9KCGHrH0oj",
        "outputId": "3326596c-e233-4c8c-fee4-c672b069a283",
        "colab": {
          "base_uri": "https://localhost:8080/",
          "height": 102
        }
      },
      "source": [
        "cords_int[:5]"
      ],
      "execution_count": 174,
      "outputs": [
        {
          "output_type": "execute_result",
          "data": {
            "text/plain": [
              "array([[61, 35],\n",
              "       [62, 35],\n",
              "       [62, 35],\n",
              "       [63, 35],\n",
              "       [63, 36]], dtype=int32)"
            ]
          },
          "metadata": {
            "tags": []
          },
          "execution_count": 174
        }
      ]
    },
    {
      "cell_type": "code",
      "metadata": {
        "id": "G7-2Erz5FGt5"
      },
      "source": [
        "pg=polygon(cords_int[:,1],cords_int[:,0])"
      ],
      "execution_count": 175,
      "outputs": []
    },
    {
      "cell_type": "code",
      "metadata": {
        "id": "ZhIyx5d0KXPO",
        "outputId": "01c8f77b-0ecd-4e9e-9cb2-e881de597155",
        "colab": {
          "base_uri": "https://localhost:8080/",
          "height": 153
        }
      },
      "source": [
        "pg"
      ],
      "execution_count": 176,
      "outputs": [
        {
          "output_type": "execute_result",
          "data": {
            "text/plain": [
              "(array([29, 29, 29, 29, 29, 29, 30, 30, 30, 30, 30, 31, 31, 31, 31, 31, 31,\n",
              "        31, 31, 31, 32, 32, 32, 32, 32, 32, 32, 32, 32, 33, 33, 33, 33, 33,\n",
              "        33, 33, 33, 33, 33, 34, 34, 34, 34, 34, 34, 34, 34, 34, 34, 34, 35,\n",
              "        35, 35, 35, 35, 35, 35, 35, 36, 36, 36, 36, 36, 36, 36, 36, 36, 37]),\n",
              " array([60, 61, 62, 63, 64, 65, 61, 62, 63, 64, 65, 60, 61, 62, 63, 64, 65,\n",
              "        66, 67, 68, 60, 61, 62, 63, 64, 65, 66, 67, 68, 60, 61, 62, 63, 64,\n",
              "        65, 66, 67, 68, 69, 60, 61, 62, 63, 64, 65, 66, 67, 68, 69, 70, 63,\n",
              "        64, 65, 66, 67, 68, 69, 70, 64, 65, 66, 67, 68, 69, 70, 72, 73, 70]))"
            ]
          },
          "metadata": {
            "tags": []
          },
          "execution_count": 176
        }
      ]
    },
    {
      "cell_type": "code",
      "metadata": {
        "id": "Cqk3AXIcLP_4"
      },
      "source": [
        ""
      ],
      "execution_count": 176,
      "outputs": []
    },
    {
      "cell_type": "code",
      "metadata": {
        "id": "7IuNNPTNF2Ee"
      },
      "source": [
        "#pol=np.array([[2,3],[3,1],[4,0]])\n",
        "mask=polygon2mask((256,256),cords_int[0])"
      ],
      "execution_count": 364,
      "outputs": []
    },
    {
      "cell_type": "code",
      "metadata": {
        "id": "Ub7tyXB8GraC",
        "outputId": "236afc6e-57c9-4051-d90f-f40aa641b3f3",
        "colab": {
          "base_uri": "https://localhost:8080/",
          "height": 136
        }
      },
      "source": [
        "mask"
      ],
      "execution_count": 365,
      "outputs": [
        {
          "output_type": "execute_result",
          "data": {
            "text/plain": [
              "array([[False, False, False, ..., False, False, False],\n",
              "       [False, False, False, ..., False, False, False],\n",
              "       [False, False, False, ..., False, False, False],\n",
              "       ...,\n",
              "       [False, False, False, ..., False, False, False],\n",
              "       [False, False, False, ..., False, False, False],\n",
              "       [False, False, False, ..., False, False, False]])"
            ]
          },
          "metadata": {
            "tags": []
          },
          "execution_count": 365
        }
      ]
    }
  ]
}